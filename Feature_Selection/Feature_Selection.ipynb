{
 "cells": [
  {
   "cell_type": "markdown",
   "metadata": {},
   "source": [
    "# Lab 3 - Caravan Insurance Problem - Tom Dooney, 6230256"
   ]
  },
  {
   "cell_type": "code",
   "execution_count": 1,
   "metadata": {},
   "outputs": [],
   "source": [
    "import numpy as np\n",
    "import pandas as pd\n",
    "from sklearn import preprocessing\n",
    "from sklearn.preprocessing import MinMaxScaler\n",
    "from imblearn.over_sampling import SMOTE\n",
    "from sklearn.model_selection import train_test_split\n",
    "from sklearn.linear_model import LogisticRegression\n",
    "from sklearn.metrics import accuracy_score\n",
    "from sklearn.tree import DecisionTreeClassifier\n",
    "from sklearn.ensemble import RandomForestClassifier\n",
    "from sklearn.neural_network import *\n",
    "from sklearn.naive_bayes import GaussianNB, BernoulliNB\n",
    "from sklearn.metrics import cohen_kappa_score as kappa\n",
    "from sklearn.metrics import confusion_matrix\n",
    "from sklearn import metrics\n",
    "from sklearn.model_selection import cross_val_score\n",
    "from sklearn.model_selection import cross_val_predict\n",
    "from sklearn.ensemble import GradientBoostingClassifier\n",
    "from sklearn.ensemble import ExtraTreesClassifier\n",
    "from sklearn.svm import SVC\n",
    "import matplotlib.pyplot as plt\n",
    "import warnings\n",
    "from sklearn.tree import export_graphviz\n",
    "import graphviz \n",
    "from sklearn import tree\n",
    "import pydotplus\n",
    "from pandas.io.parsers import read_csv\n",
    "from sklearn import preprocessing\n",
    "warnings.filterwarnings(\"ignore\")"
   ]
  },
  {
   "cell_type": "code",
   "execution_count": 2,
   "metadata": {},
   "outputs": [
    {
     "data": {
      "text/plain": [
       "Customer Subtype                                    0\n",
       "Number of houses                                    0\n",
       "Avg size household                                  0\n",
       "Avg Age                                             0\n",
       "Customer main type                                  0\n",
       "Roman catholic                                      0\n",
       "Protestant                                          0\n",
       "Other religion                                      0\n",
       "No religion                                         0\n",
       "Married                                             0\n",
       "Living together                                     0\n",
       "Other relation                                      0\n",
       "Singles                                             0\n",
       "Household without children                          0\n",
       "Household with children                             0\n",
       "High level education                                0\n",
       "Medium level education                              0\n",
       "Lower level education                               0\n",
       "High status                                         0\n",
       "Entrepreneur                                        0\n",
       "Farmer                                              0\n",
       "Middle Management                                   0\n",
       "Skilled labourers                                   0\n",
       "Unskilled labourers                                 0\n",
       "Social class A                                      0\n",
       "Social class B1                                     0\n",
       "Social class B2                                     0\n",
       "Social class C                                      0\n",
       "Social class D                                      0\n",
       "Rented house                                        0\n",
       "                                                   ..\n",
       "Contribution family accidents insurance policies    0\n",
       "Contribution disability insurance policies          0\n",
       "Contribution fire policies                          0\n",
       "Contribution surfboard policies                     0\n",
       "Contribution boat policies                          0\n",
       "Contribution bicycle policies                       0\n",
       "Contribution property insurance policies            0\n",
       "Contribution social security insurance policies     0\n",
       "Number of private third party insurance             0\n",
       "Number of third party insurance (firms)             0\n",
       "Number of third party insurance (agriculture)       0\n",
       "Number of car policies                              0\n",
       "Number of delivery van policies                     0\n",
       "Number of motorcycle/scooter policies               0\n",
       "Number of lorry policies                            0\n",
       "Number of trailer policies                          0\n",
       "Number of tractor policies                          0\n",
       "Number of agricultural machines policies            0\n",
       "Number of moped policies                            0\n",
       "Number of life insurances                           0\n",
       "Number of private accident insurance policies       0\n",
       "Number of family accidents insurance policies       0\n",
       "Number of disability insurance policies             0\n",
       "Number of re policies                               0\n",
       "Number of surfboard policies                        0\n",
       "Number of boat policies                             0\n",
       "Number of bicycle policies                          0\n",
       "Number of property insurance policies               0\n",
       "Number of social security insurance policies        0\n",
       "CARAVAN POLICY                                      0\n",
       "Length: 86, dtype: int64"
      ]
     },
     "execution_count": 2,
     "metadata": {},
     "output_type": "execute_result"
    }
   ],
   "source": [
    "df_train = read_csv('caravan (2).csv')\n",
    "X = df_train.iloc[:,0:len(df_train.columns)-1]\n",
    "y = df_train['CARAVAN POLICY']\n",
    "df_train.isnull().sum()"
   ]
  },
  {
   "cell_type": "markdown",
   "metadata": {},
   "source": [
    "No null values"
   ]
  },
  {
   "cell_type": "markdown",
   "metadata": {},
   "source": [
    "## Assignment 1: Describe the actual or potential customers and possibly explain why these\n",
    "## customers buy a caravan policy.\n",
    "\n",
    "For this first assignment, an investigation will be made into some of the variables that describe the customers. By plotting these variables against frequency of customers (and non-customers), a clear visual description of caravan insurance customers should be visible."
   ]
  },
  {
   "cell_type": "code",
   "execution_count": 3,
   "metadata": {},
   "outputs": [
    {
     "name": "stdout",
     "output_type": "stream",
     "text": [
      "Class 0 instances\n",
      " \n",
      "5474\n",
      " \n",
      "Class 1 instances\n",
      " \n",
      "348\n"
     ]
    },
    {
     "data": {
      "image/png": "[encoded data removed]",
      "text/plain": [
       "<Figure size 432x288 with 1 Axes>"
      ]
     },
     "metadata": {
      "needs_background": "light"
     },
     "output_type": "display_data"
    }
   ],
   "source": [
    "plt.hist(y, 19)\n",
    "\n",
    "y = list(y)\n",
    "class_one = y.count(1)\n",
    "class_zero = y.count(0)\n",
    "\n",
    "print('Class 0 instances')\n",
    "print(' ')\n",
    "print(class_zero)\n",
    "print(' ')\n",
    "\n",
    "print('Class 1 instances')\n",
    "print(' ')\n",
    "print(class_one)\n",
    "\n"
   ]
  },
  {
   "cell_type": "markdown",
   "metadata": {},
   "source": [
    "Unbalanced dataset: considerably more class 0 instances than class 1"
   ]
  },
  {
   "cell_type": "code",
   "execution_count": 6,
   "metadata": {},
   "outputs": [
    {
     "name": "stdout",
     "output_type": "stream",
     "text": [
      "shape of dataset- only with class 1 records\n",
      "(348, 86)\n",
      "(5822, 86)\n"
     ]
    }
   ],
   "source": [
    "df_class_one =df_train[df_train['CARAVAN POLICY']== 1];\n",
    "print('shape of dataset- only with class 1 records')\n",
    "print(np.shape(df_class_one))\n",
    "print(np.shape(df_train))"
   ]
  },
  {
   "cell_type": "code",
   "execution_count": 161,
   "metadata": {},
   "outputs": [],
   "source": [
    "X_encoded = X\n",
    "# creating dummy variable for customer main type\n",
    "\n",
    "dummy = pd.get_dummies(X_encoded['Customer main type'])"
   ]
  },
  {
   "cell_type": "code",
   "execution_count": 7,
   "metadata": {},
   "outputs": [
    {
     "name": "stdout",
     "output_type": "stream",
     "text": [
      "Customer counts per Main Type: \n",
      "8     89\n",
      "2     66\n",
      "3     59\n",
      "1     48\n",
      "9     42\n",
      "7     20\n",
      "5     15\n",
      "10     5\n",
      "6      4\n",
      "Name: Customer main type, dtype: int64\n",
      "8     1563\n",
      "3      886\n",
      "9      667\n",
      "5      569\n",
      "1      552\n",
      "7      550\n",
      "2      502\n",
      "10     276\n",
      "6      205\n",
      "4       52\n",
      "Name: Customer main type, dtype: int64\n"
     ]
    },
    {
     "data": {
      "image/png": "[encoded data removed]",
      "text/plain": [
       "<Figure size 432x288 with 1 Axes>"
      ]
     },
     "metadata": {
      "needs_background": "light"
     },
     "output_type": "display_data"
    }
   ],
   "source": [
    "plt.title(\"Caravan Insurance Customers Vs. Customer Main Type\",size=15)\n",
    "plt.xlabel('Main Type')\n",
    "plt.ylabel('Caravan Customer Frequency')\n",
    "plt.hist(df_train['Customer main type'],20)\n",
    "plt.hist(df_class_one['Customer main type'],20,color='#E28550' )\n",
    "\n",
    "\n",
    "print('Customer counts per Main Type: ')\n",
    "print(df_class_one['Customer main type'].value_counts())\n",
    "print(df_train['Customer main type'].value_counts())"
   ]
  },
  {
   "cell_type": "markdown",
   "metadata": {},
   "source": [
    "**8 = Family with Grown Ups (89/1563) 0.057, 2 = Driven Growers (66/502) 0.13, 3 = Average Family (59/886) 0.067, 1 = Successful Hedonsits (48/552) 0.087, 9 = Conservative Families (42/667) 0.063**\n",
    "\n",
    "From the customer main type graph it is observed that the largest number of Caravan insurance customers in this data set are families with grown ups although this type contains most instances. Larger proportions of customers are actually of **Driven Growers, Successful Hedonists, AverageFamily** and **Conservative Families**. \n",
    "\n",
    "The least likely customers appear to be from **Career Loners, Cruising Seniors, Farmers**"
   ]
  },
  {
   "cell_type": "code",
   "execution_count": 8,
   "metadata": {},
   "outputs": [
    {
     "name": "stdout",
     "output_type": "stream",
     "text": [
      "Customer counts per Subtype: \n",
      "8     51\n",
      "33    46\n",
      "3     25\n",
      "38    23\n",
      "39    19\n",
      "12    16\n",
      "36    16\n",
      "13    13\n",
      "1     13\n",
      "6     12\n",
      "9     12\n",
      "37    10\n",
      "34     9\n",
      "10     9\n",
      "11     9\n",
      "32     8\n",
      "35     8\n",
      "2      6\n",
      "31     6\n",
      "41     5\n",
      "24     5\n",
      "22     4\n",
      "30     4\n",
      "23     4\n",
      "7      3\n",
      "20     2\n",
      "25     2\n",
      "5      2\n",
      "4      2\n",
      "29     2\n",
      "26     1\n",
      "27     1\n",
      "Name: Customer Subtype, dtype: int64\n",
      "33    810\n",
      "8     339\n",
      "38    339\n",
      "39    328\n",
      "9     278\n",
      "23    251\n",
      "3     249\n",
      "36    225\n",
      "35    214\n",
      "41    205\n",
      "31    205\n",
      "34    182\n",
      "24    180\n",
      "13    179\n",
      "10    165\n",
      "11    153\n",
      "32    141\n",
      "37    132\n",
      "1     124\n",
      "6     119\n",
      "30    118\n",
      "12    111\n",
      "22     98\n",
      "29     86\n",
      "2      82\n",
      "25     82\n",
      "40     71\n",
      "4      52\n",
      "27     50\n",
      "26     48\n",
      "5      45\n",
      "7      44\n",
      "28     25\n",
      "20     25\n",
      "18     19\n",
      "16     16\n",
      "21     15\n",
      "17      9\n",
      "15      5\n",
      "19      3\n",
      "Name: Customer Subtype, dtype: int64\n"
     ]
    },
    {
     "data": {
      "image/png": "[encoded data removed]",
      "text/plain": [
       "<Figure size 1296x360 with 1 Axes>"
      ]
     },
     "metadata": {
      "needs_background": "light"
     },
     "output_type": "display_data"
    }
   ],
   "source": [
    "plt.figure(figsize=(6 * 3, 5))\n",
    "plt.title(\"Caravan Insurance Customers Vs. Customer Sub-Type\",size=15)\n",
    "plt.hist(df_train['Customer Subtype'],50 )\n",
    "plt.hist(df_class_one['Customer Subtype'],50 )\n",
    "\n",
    "print('Customer counts per Subtype: ')\n",
    "print(df_class_one['Customer Subtype'].value_counts())\n",
    "print(df_train['Customer Subtype'].value_counts())"
   ]
  },
  {
   "cell_type": "markdown",
   "metadata": {},
   "source": [
    "**8 = Middle class families (51/339) 0.15, 33 = Lower class large families (46/810) 0.056, 3 = High status seniors (25/249) 0.1, 38 = Traditional families (23/339) 0.067, 39 = Large religous families(19/238) 0.079, 12 = Affluent young families (16/111) 0.144, 36 = Couples with teens 'Married with children' (16/225) 0.071**\n",
    "\n",
    "As can be seen the largest proportion of caravan customers belong to **Middle Class families**, **Affluent Young Families** and **High Status Seniors**."
   ]
  },
  {
   "cell_type": "code",
   "execution_count": 11,
   "metadata": {},
   "outputs": [
    {
     "name": "stdout",
     "output_type": "stream",
     "text": [
      "Customer counts per Avg Age: \n",
      "3    183\n",
      "2     87\n",
      "4     64\n",
      "5     12\n",
      "6      1\n",
      "1      1\n",
      "Name: Avg Age, dtype: int64\n",
      "3    3000\n",
      "2    1452\n",
      "4    1073\n",
      "5     193\n",
      "1      74\n",
      "6      30\n",
      "Name: Avg Age, dtype: int64\n"
     ]
    },
    {
     "data": {
      "image/png": "[encoded data removed]",
      "text/plain": [
       "<Figure size 432x288 with 1 Axes>"
      ]
     },
     "metadata": {
      "needs_background": "light"
     },
     "output_type": "display_data"
    }
   ],
   "source": [
    "plt.figure()\n",
    "plt.title(\"Caravan Insurance Customers Vs. Avg Age\",size=15)\n",
    "plt.hist(df_train['Avg Age'],10)\n",
    "plt.hist(df_class_one['Avg Age'],10)\n",
    "\n",
    "print('Customer counts per Avg Age: ')\n",
    "print(df_class_one['Avg Age'].value_counts())\n",
    "print(df_train['Avg Age'].value_counts())\n"
   ]
  },
  {
   "cell_type": "markdown",
   "metadata": {},
   "source": [
    "A normal distribution is observed here for both Class 1 and Class 0 instances. The most probable customers however are between 40-50 years old (**3**), containing the largest proportions."
   ]
  },
  {
   "cell_type": "code",
   "execution_count": 12,
   "metadata": {},
   "outputs": [
    {
     "name": "stdout",
     "output_type": "stream",
     "text": [
      "Customer counts per Average income: \n",
      "4    139\n",
      "5     70\n",
      "3     69\n",
      "6     24\n",
      "2     20\n",
      "7     17\n",
      "8      8\n",
      "1      1\n",
      "Name: Average income, dtype: int64\n",
      "3    1932\n",
      "4    1854\n",
      "5     733\n",
      "2     651\n",
      "6     355\n",
      "7     131\n",
      "8      70\n",
      "1      49\n",
      "0      25\n",
      "9      22\n",
      "Name: Average income, dtype: int64\n"
     ]
    },
    {
     "data": {
      "image/png": "[encoded data removed]",
      "text/plain": [
       "<Figure size 432x288 with 1 Axes>"
      ]
     },
     "metadata": {
      "needs_background": "light"
     },
     "output_type": "display_data"
    }
   ],
   "source": [
    "plt.figure()\n",
    "plt.title(\"Caravan Insurance Customers Vs. Avg Income\",size=15)\n",
    "plt.hist(df_train['Average income'],20)\n",
    "plt.hist(df_class_one['Average income'],20)\n",
    "\n",
    "print('Customer counts per Average income: ')\n",
    "print(df_class_one['Average income'].value_counts())\n",
    "print(df_train['Average income'].value_counts())"
   ]
  },
  {
   "cell_type": "markdown",
   "metadata": {},
   "source": [
    "The largest proportions in the case of **Avg Income** is in classes **4** and **5**, meaning that most likely customers earn average to slightly greater than average incomes."
   ]
  },
  {
   "cell_type": "code",
   "execution_count": 13,
   "metadata": {},
   "outputs": [
    {
     "name": "stdout",
     "output_type": "stream",
     "text": [
      "Customer counts per Purchasing power class: \n",
      "3    71\n",
      "7    67\n",
      "6    66\n",
      "4    46\n",
      "8    35\n",
      "5    30\n",
      "1    18\n",
      "2    15\n",
      "Name: Purchasing power class, dtype: int64\n",
      "3    1524\n",
      "4     902\n",
      "6     901\n",
      "1     587\n",
      "5     583\n",
      "7     474\n",
      "8     426\n",
      "2     425\n",
      "Name: Purchasing power class, dtype: int64\n"
     ]
    },
    {
     "data": {
      "image/png": "[encoded data removed]",
      "text/plain": [
       "<Figure size 432x288 with 1 Axes>"
      ]
     },
     "metadata": {
      "needs_background": "light"
     },
     "output_type": "display_data"
    }
   ],
   "source": [
    "plt.figure()\n",
    "plt.title(\"Caravan Insurance Customers Vs. Purchasing power class\",size=15)\n",
    "plt.hist(df_train['Purchasing power class'],20)\n",
    "plt.hist(df_class_one['Purchasing power class'],20)\n",
    "\n",
    "print('Customer counts per Purchasing power class: ')\n",
    "print(df_class_one['Purchasing power class'].value_counts())\n",
    "print(df_train['Purchasing power class'].value_counts())"
   ]
  },
  {
   "cell_type": "markdown",
   "metadata": {},
   "source": [
    "From this plot it is observed that people with slightly higher than average purchasing power are more likely to purchase Caravan insurance"
   ]
  },
  {
   "cell_type": "code",
   "execution_count": 24,
   "metadata": {},
   "outputs": [
    {
     "name": "stdout",
     "output_type": "stream",
     "text": [
      "Customer counts per Purchasing power class: \n",
      "7    116\n",
      "6     71\n",
      "9     66\n",
      "5     48\n",
      "8     25\n",
      "4     10\n",
      "3      6\n",
      "2      3\n",
      "0      2\n",
      "1      1\n",
      "Name: Married, dtype: int64\n",
      "7    1683\n",
      "6    1172\n",
      "5     946\n",
      "9     794\n",
      "8     361\n",
      "4     324\n",
      "3     246\n",
      "2     157\n",
      "1      75\n",
      "0      64\n",
      "Name: Married, dtype: int64\n"
     ]
    },
    {
     "data": {
      "image/png": "[encoded data removed]",
      "text/plain": [
       "<Figure size 432x288 with 1 Axes>"
      ]
     },
     "metadata": {
      "needs_background": "light"
     },
     "output_type": "display_data"
    }
   ],
   "source": [
    "plt.figure()\n",
    "plt.title(\"Caravan Insurance Customers Vs. Married\",size=15)\n",
    "plt.hist(df_train['Married'],20)\n",
    "plt.hist(df_class_one['Married'],20)\n",
    "\n",
    "print('Customer counts per Purchasing power class: ')\n",
    "print(df_class_one['Married'].value_counts())\n",
    "print(df_train['Married'].value_counts())"
   ]
  },
  {
   "cell_type": "markdown",
   "metadata": {},
   "source": [
    "This plot shows that most caravan insurance customers live in areas where most people are married"
   ]
  },
  {
   "cell_type": "code",
   "execution_count": 14,
   "metadata": {},
   "outputs": [
    {
     "name": "stdout",
     "output_type": "stream",
     "text": [
      "Customer counts per 1 Car owner: \n",
      "7    119\n",
      "6     91\n",
      "5     59\n",
      "9     39\n",
      "8     19\n",
      "4     13\n",
      "3      7\n",
      "2      1\n",
      "Name: 1 car, dtype: int64\n",
      "6    1663\n",
      "7    1413\n",
      "5    1210\n",
      "9     505\n",
      "4     448\n",
      "8     261\n",
      "3     231\n",
      "2      58\n",
      "0      19\n",
      "1      14\n",
      "Name: 1 car, dtype: int64\n"
     ]
    },
    {
     "data": {
      "image/png": "[encoded data removed]",
      "text/plain": [
       "<Figure size 432x288 with 1 Axes>"
      ]
     },
     "metadata": {
      "needs_background": "light"
     },
     "output_type": "display_data"
    }
   ],
   "source": [
    "plt.figure()\n",
    "plt.title(\"Caravan Insurance Customers Vs. 1 Car owner\",size=15)\n",
    "plt.hist(df_train['1 car'],20)\n",
    "plt.hist(df_class_one['1 car'],20)\n",
    "\n",
    "print('Customer counts per 1 Car owner: ')\n",
    "print(df_class_one['1 car'].value_counts())\n",
    "print(df_train['1 car'].value_counts())"
   ]
  },
  {
   "cell_type": "code",
   "execution_count": 16,
   "metadata": {},
   "outputs": [
    {
     "name": "stdout",
     "output_type": "stream",
     "text": [
      "Customer counts per 2 Car owners: \n",
      "2    112\n",
      "0    107\n",
      "1     84\n",
      "3     22\n",
      "4     19\n",
      "5      3\n",
      "6      1\n",
      "Name: 2 cars, dtype: int64\n",
      "0    1854\n",
      "2    1748\n",
      "1    1468\n",
      "3     385\n",
      "4     301\n",
      "5      56\n",
      "6       9\n",
      "7       1\n",
      "Name: 2 cars, dtype: int64\n"
     ]
    },
    {
     "data": {
      "image/png": "[encoded data removed]",
      "text/plain": [
       "<Figure size 432x288 with 1 Axes>"
      ]
     },
     "metadata": {
      "needs_background": "light"
     },
     "output_type": "display_data"
    }
   ],
   "source": [
    "plt.figure()\n",
    "plt.title(\"Caravan Insurance Customers Vs. 2 Car owners\",size=15)\n",
    "plt.hist(df_train['2 cars'],20)\n",
    "plt.hist(df_class_one['2 cars'],20)\n",
    "\n",
    "print('Customer counts per 2 Car owners: ')\n",
    "print(df_class_one['2 cars'].value_counts())\n",
    "print(df_train['2 cars'].value_counts())"
   ]
  },
  {
   "cell_type": "code",
   "execution_count": 17,
   "metadata": {},
   "outputs": [
    {
     "name": "stdout",
     "output_type": "stream",
     "text": [
      "Customer counts per Contribution car policies: \n"
     ]
    },
    {
     "data": {
      "text/plain": [
       "6    262\n",
       "0     72\n",
       "5     14\n",
       "Name: Contribution car policies, dtype: int64"
      ]
     },
     "execution_count": 17,
     "metadata": {},
     "output_type": "execute_result"
    },
    {
     "data": {
      "image/png": "[encoded data removed]",
      "text/plain": [
       "<Figure size 432x288 with 1 Axes>"
      ]
     },
     "metadata": {
      "needs_background": "light"
     },
     "output_type": "display_data"
    }
   ],
   "source": [
    "plt.figure()\n",
    "plt.title(\"Caravan Insurance Customers Vs. Contribution car policies\",size=15)\n",
    "plt.hist(df_train['Contribution car policies'], 15)\n",
    "plt.hist(df_class_one['Contribution car policies'], 15)\n",
    "\n",
    "print('Customer counts per Contribution car policies: ')\n",
    "df_class_one['Contribution car policies'].value_counts()"
   ]
  },
  {
   "cell_type": "markdown",
   "metadata": {},
   "source": [
    "From the above three plots, it is observed that people living in areas where most people own 1 car are most likely to purchase insurance, although people in areas where two cars are owned also seems to be an indicator. Furthermore, people who spend between 1000-4999 on premiums are by far most likely to purchase insurance. This will be later observed in feature selection where Random Forest shows that car ownership represents a significant indicator for Caravan Insurance Customers"
   ]
  },
  {
   "cell_type": "code",
   "execution_count": 19,
   "metadata": {},
   "outputs": [
    {
     "name": "stdout",
     "output_type": "stream",
     "text": [
      "Customer counts per Number of fire policies: \n"
     ]
    },
    {
     "data": {
      "text/plain": [
       "1    232\n",
       "0    109\n",
       "2      7\n",
       "Name: Number of re policies, dtype: int64"
      ]
     },
     "execution_count": 19,
     "metadata": {},
     "output_type": "execute_result"
    },
    {
     "data": {
      "image/png": "[encoded data removed]",
      "text/plain": [
       "<Figure size 432x288 with 1 Axes>"
      ]
     },
     "metadata": {
      "needs_background": "light"
     },
     "output_type": "display_data"
    }
   ],
   "source": [
    "plt.figure()\n",
    "plt.title(\"Caravan Insurance Customers Vs. Number of fire policies\",size=15)\n",
    "plt.hist(df_train['Number of re policies'], 15)\n",
    "plt.hist(df_class_one['Number of re policies'])\n",
    "\n",
    "print('Customer counts per Number of fire policies: ')\n",
    "df_class_one['Number of re policies'].value_counts()"
   ]
  },
  {
   "cell_type": "code",
   "execution_count": 20,
   "metadata": {},
   "outputs": [
    {
     "name": "stdout",
     "output_type": "stream",
     "text": [
      "Customer counts per Number of fire policies: \n"
     ]
    },
    {
     "data": {
      "text/plain": [
       "1    232\n",
       "0    109\n",
       "2      7\n",
       "Name: Number of re policies, dtype: int64"
      ]
     },
     "execution_count": 20,
     "metadata": {},
     "output_type": "execute_result"
    },
    {
     "data": {
      "image/png": "[encoded data removed]",
      "text/plain": [
       "<Figure size 432x288 with 1 Axes>"
      ]
     },
     "metadata": {
      "needs_background": "light"
     },
     "output_type": "display_data"
    }
   ],
   "source": [
    "plt.figure()\n",
    "plt.title(\"Caravan Insurance Customers Vs. Contribution fire policies\",size=15)\n",
    "plt.hist(df_train['Contribution fire policies'], 15)\n",
    "plt.hist(df_class_one['Contribution fire policies'],15)\n",
    "\n",
    "print('Customer counts per Number of fire policies: ')\n",
    "df_class_one['Number of re policies'].value_counts()\n"
   ]
  },
  {
   "cell_type": "markdown",
   "metadata": {},
   "source": [
    "It is apparent that fire insurance policies represent another indicator of Caravan customers with the largest proportion of customers coming from people with at least 1 fire insurance policy. The plot of **Contribution fire policies** agrees with this, with large proportions of people spending between 100-500 on premiums for fire policies."
   ]
  },
  {
   "cell_type": "code",
   "execution_count": 21,
   "metadata": {},
   "outputs": [
    {
     "name": "stdout",
     "output_type": "stream",
     "text": [
      "Customer counts per Number of boat policies: \n"
     ]
    },
    {
     "data": {
      "text/plain": [
       "0    335\n",
       "1     12\n",
       "2      1\n",
       "Name: Number of boat policies, dtype: int64"
      ]
     },
     "execution_count": 21,
     "metadata": {},
     "output_type": "execute_result"
    },
    {
     "data": {
      "image/png": "[encoded data removed]",
      "text/plain": [
       "<Figure size 432x288 with 1 Axes>"
      ]
     },
     "metadata": {
      "needs_background": "light"
     },
     "output_type": "display_data"
    }
   ],
   "source": [
    "plt.figure()\n",
    "plt.title(\"Caravan Insurance Customers Vs. Number of boat policies\",size=15)\n",
    "plt.hist(df_train['Number of boat policies'], 15)\n",
    "plt.hist(df_class_one['Number of boat policies'], 15)\n",
    "\n",
    "print('Customer counts per Number of boat policies: ')\n",
    "df_class_one['Number of boat policies'].value_counts()"
   ]
  },
  {
   "cell_type": "markdown",
   "metadata": {},
   "source": [
    "In contrast to car insurance and fire insurance, other insurance information does not seem to positively correlate with caravan insurance. Similar to the above boat policy plot, it was found that a customer of all other insurance types, does not indicate that they will purchase caravan insurance."
   ]
  },
  {
   "cell_type": "code",
   "execution_count": 18,
   "metadata": {},
   "outputs": [
    {
     "name": "stdout",
     "output_type": "stream",
     "text": [
      "Customer counts per Number of boat policies: \n"
     ]
    },
    {
     "data": {
      "text/plain": [
       "0    335\n",
       "1     12\n",
       "2      1\n",
       "Name: Number of boat policies, dtype: int64"
      ]
     },
     "execution_count": 18,
     "metadata": {},
     "output_type": "execute_result"
    },
    {
     "data": {
      "image/png": "[encoded data removed]",
      "text/plain": [
       "<Figure size 432x288 with 1 Axes>"
      ]
     },
     "metadata": {
      "needs_background": "light"
     },
     "output_type": "display_data"
    }
   ],
   "source": [
    "plt.figure()\n",
    "plt.title(\"Caravan Insurance Customers Vs. Number of boat policies\",size=15)\n",
    "plt.hist(df_train['Number of boat policies'], 15)\n",
    "plt.hist(df_class_one['Number of boat policies'], 15)\n",
    "\n",
    "print('Customer counts per Number of boat policies: ')\n",
    "df_class_one['Number of boat policies'].value_counts()"
   ]
  },
  {
   "cell_type": "markdown",
   "metadata": {},
   "source": [
    "## Assignment 1 - Conclusions\n",
    "\n",
    "The above analysis provides insights into the profile of potential Caravan insurance customers. It seems that middle to upper class middle aged people with families tend to be customers. This is indicated by **Married**, **Avg Age**, **Customer Main Type** and **Customer Sub-Type**.\n",
    "\n",
    "These families can be categorized generally as being affluent young families, large religious or traditional families while families falling under the **Conservative** main type also take up sizeable proportions. These customers have moderate to high income and moderately high purchasing power. This is intuitive, as owning a caravan means that tight-knit family holidays can be achieved at a low cost, while a certain degree of freedom is provided as opposed to vacations by other means (flying can be awkward for young or large families). These demographics are also most likely to be people who own 1 or 2 cars, however a caravan being another mode of transport, families with 1 car are more likely customers, seeing as they are generally of middle class backgrounds. This is in contrast to wealthy people with no/small families who can possibly afford more expensive vacations/leisure time, while not being constrained by other modes of travel.\n",
    "\n",
    "Other than these types of families, families with grown ups, successful hedonists and high status seniors also represent a reasonable customer base. Families with grown ups can benefit from a caravan as it means young adults with limited income have a good degree of opportunity to travel without spending too much money. Successful hedonists, which describes people who's main priority is leisure, is an obvious caravan customer. Finally, High Status Seniors are also an obvious candidate for caravan insurance as they have the means to spend a lot of time travelling, and by using a caravan have a lot of freedom and privacy to go on vacation etc.\n",
    "\n",
    "In terms of product ownership, customers that own up to 2 cars (particularly 1 car) and spend more than average on car policies represent a strong customer base. Also customers that pay more than average on fire insurance policies are also strong canditates as caravan insuracnce customers. This makes sense as because of activites that occur in general when considering caravans (ie. camping and cooking activities), they can represent a potential fire hazard. As a result, customers who are interested in this type of insurance are also strong candidates for caravan insurance."
   ]
  },
  {
   "cell_type": "markdown",
   "metadata": {},
   "source": [
    "## Assignment 2: The purpose of assignment 2 is to find a set of 800 customers from the test set that contains the most caravan policy owners. Use your most accurate model to select the 800 most likely policy owners. \n",
    "\n",
    "For this assignment, feature selection will be carried out using Correlation Analysis, followed by Random Forest to select the most significant variables after strongly correlated ones have been removed"
   ]
  },
  {
   "cell_type": "code",
   "execution_count": 26,
   "metadata": {},
   "outputs": [],
   "source": [
    "# Splitting up customer main type into specific categories using dummy variables. Due to previous correlation analysis\n",
    "# customer subtype was removed as it had a strong correlation with Main type however specific subcategories \n",
    "# are required for accuracy\n",
    "X_encoded = X\n",
    "dummy = pd.get_dummies(X_encoded['Customer main type'])"
   ]
  },
  {
   "cell_type": "code",
   "execution_count": 27,
   "metadata": {},
   "outputs": [],
   "source": [
    "# Splitting up customer main type into specific categories using dummy variables. Due to previous correlation analysis\n",
    "# customer subtype was removed as it had a strong correlation with Main type however specific subcategories \n",
    "# are required for accuracy\n",
    "dummy.columns = [ 'Successful hedonists', 'Driven Growers', 'Average Family', 'Career Loners', ' Living well', ' Cruising Seniors','Retired and Religeous',' Family with grown ups','Conservative families', 'Farmers']"
   ]
  },
  {
   "cell_type": "code",
   "execution_count": 28,
   "metadata": {},
   "outputs": [
    {
     "data": {
      "text/html": [
       "<div>\n",
       "<style scoped>\n",
       "    .dataframe tbody tr th:only-of-type {\n",
       "        vertical-align: middle;\n",
       "    }\n",
       "\n",
       "    .dataframe tbody tr th {\n",
       "        vertical-align: top;\n",
       "    }\n",
       "\n",
       "    .dataframe thead th {\n",
       "        text-align: right;\n",
       "    }\n",
       "</style>\n",
       "<table border=\"1\" class=\"dataframe\">\n",
       "  <thead>\n",
       "    <tr style=\"text-align: right;\">\n",
       "      <th></th>\n",
       "      <th>Customer Subtype</th>\n",
       "      <th>Number of houses</th>\n",
       "      <th>Avg size household</th>\n",
       "      <th>Avg Age</th>\n",
       "      <th>Roman catholic</th>\n",
       "      <th>Protestant</th>\n",
       "      <th>Other religion</th>\n",
       "      <th>No religion</th>\n",
       "      <th>Married</th>\n",
       "      <th>Living together</th>\n",
       "      <th>...</th>\n",
       "      <th>Number of life insurances</th>\n",
       "      <th>Number of private accident insurance policies</th>\n",
       "      <th>Number of family accidents insurance policies</th>\n",
       "      <th>Number of disability insurance policies</th>\n",
       "      <th>Number of re policies</th>\n",
       "      <th>Number of surfboard policies</th>\n",
       "      <th>Number of boat policies</th>\n",
       "      <th>Number of bicycle policies</th>\n",
       "      <th>Number of property insurance policies</th>\n",
       "      <th>Number of social security insurance policies</th>\n",
       "    </tr>\n",
       "  </thead>\n",
       "  <tbody>\n",
       "    <tr>\n",
       "      <th>0</th>\n",
       "      <td>33</td>\n",
       "      <td>1</td>\n",
       "      <td>3</td>\n",
       "      <td>2</td>\n",
       "      <td>0</td>\n",
       "      <td>5</td>\n",
       "      <td>1</td>\n",
       "      <td>3</td>\n",
       "      <td>7</td>\n",
       "      <td>0</td>\n",
       "      <td>...</td>\n",
       "      <td>0</td>\n",
       "      <td>0</td>\n",
       "      <td>0</td>\n",
       "      <td>0</td>\n",
       "      <td>1</td>\n",
       "      <td>0</td>\n",
       "      <td>0</td>\n",
       "      <td>0</td>\n",
       "      <td>0</td>\n",
       "      <td>0</td>\n",
       "    </tr>\n",
       "    <tr>\n",
       "      <th>1</th>\n",
       "      <td>37</td>\n",
       "      <td>1</td>\n",
       "      <td>2</td>\n",
       "      <td>2</td>\n",
       "      <td>1</td>\n",
       "      <td>4</td>\n",
       "      <td>1</td>\n",
       "      <td>4</td>\n",
       "      <td>6</td>\n",
       "      <td>2</td>\n",
       "      <td>...</td>\n",
       "      <td>0</td>\n",
       "      <td>0</td>\n",
       "      <td>0</td>\n",
       "      <td>0</td>\n",
       "      <td>1</td>\n",
       "      <td>0</td>\n",
       "      <td>0</td>\n",
       "      <td>0</td>\n",
       "      <td>0</td>\n",
       "      <td>0</td>\n",
       "    </tr>\n",
       "    <tr>\n",
       "      <th>2</th>\n",
       "      <td>37</td>\n",
       "      <td>1</td>\n",
       "      <td>2</td>\n",
       "      <td>2</td>\n",
       "      <td>0</td>\n",
       "      <td>4</td>\n",
       "      <td>2</td>\n",
       "      <td>4</td>\n",
       "      <td>3</td>\n",
       "      <td>2</td>\n",
       "      <td>...</td>\n",
       "      <td>0</td>\n",
       "      <td>0</td>\n",
       "      <td>0</td>\n",
       "      <td>0</td>\n",
       "      <td>1</td>\n",
       "      <td>0</td>\n",
       "      <td>0</td>\n",
       "      <td>0</td>\n",
       "      <td>0</td>\n",
       "      <td>0</td>\n",
       "    </tr>\n",
       "    <tr>\n",
       "      <th>3</th>\n",
       "      <td>9</td>\n",
       "      <td>1</td>\n",
       "      <td>3</td>\n",
       "      <td>3</td>\n",
       "      <td>2</td>\n",
       "      <td>3</td>\n",
       "      <td>2</td>\n",
       "      <td>4</td>\n",
       "      <td>5</td>\n",
       "      <td>2</td>\n",
       "      <td>...</td>\n",
       "      <td>0</td>\n",
       "      <td>0</td>\n",
       "      <td>0</td>\n",
       "      <td>0</td>\n",
       "      <td>1</td>\n",
       "      <td>0</td>\n",
       "      <td>0</td>\n",
       "      <td>0</td>\n",
       "      <td>0</td>\n",
       "      <td>0</td>\n",
       "    </tr>\n",
       "    <tr>\n",
       "      <th>4</th>\n",
       "      <td>40</td>\n",
       "      <td>1</td>\n",
       "      <td>4</td>\n",
       "      <td>2</td>\n",
       "      <td>1</td>\n",
       "      <td>4</td>\n",
       "      <td>1</td>\n",
       "      <td>4</td>\n",
       "      <td>7</td>\n",
       "      <td>1</td>\n",
       "      <td>...</td>\n",
       "      <td>0</td>\n",
       "      <td>0</td>\n",
       "      <td>0</td>\n",
       "      <td>0</td>\n",
       "      <td>1</td>\n",
       "      <td>0</td>\n",
       "      <td>0</td>\n",
       "      <td>0</td>\n",
       "      <td>0</td>\n",
       "      <td>0</td>\n",
       "    </tr>\n",
       "  </tbody>\n",
       "</table>\n",
       "<p>5 rows × 84 columns</p>\n",
       "</div>"
      ],
      "text/plain": [
       "   Customer Subtype  Number of houses  Avg size household  Avg Age  \\\n",
       "0                33                 1                   3        2   \n",
       "1                37                 1                   2        2   \n",
       "2                37                 1                   2        2   \n",
       "3                 9                 1                   3        3   \n",
       "4                40                 1                   4        2   \n",
       "\n",
       "   Roman catholic  Protestant  Other religion  No religion  Married  \\\n",
       "0               0           5               1            3        7   \n",
       "1               1           4               1            4        6   \n",
       "2               0           4               2            4        3   \n",
       "3               2           3               2            4        5   \n",
       "4               1           4               1            4        7   \n",
       "\n",
       "   Living together  ...  Number of life insurances  \\\n",
       "0                0  ...                          0   \n",
       "1                2  ...                          0   \n",
       "2                2  ...                          0   \n",
       "3                2  ...                          0   \n",
       "4                1  ...                          0   \n",
       "\n",
       "   Number of private accident insurance policies  \\\n",
       "0                                              0   \n",
       "1                                              0   \n",
       "2                                              0   \n",
       "3                                              0   \n",
       "4                                              0   \n",
       "\n",
       "   Number of family accidents insurance policies  \\\n",
       "0                                              0   \n",
       "1                                              0   \n",
       "2                                              0   \n",
       "3                                              0   \n",
       "4                                              0   \n",
       "\n",
       "   Number of disability insurance policies  Number of re policies  \\\n",
       "0                                        0                      1   \n",
       "1                                        0                      1   \n",
       "2                                        0                      1   \n",
       "3                                        0                      1   \n",
       "4                                        0                      1   \n",
       "\n",
       "   Number of surfboard policies  Number of boat policies  \\\n",
       "0                             0                        0   \n",
       "1                             0                        0   \n",
       "2                             0                        0   \n",
       "3                             0                        0   \n",
       "4                             0                        0   \n",
       "\n",
       "   Number of bicycle policies  Number of property insurance policies  \\\n",
       "0                           0                                      0   \n",
       "1                           0                                      0   \n",
       "2                           0                                      0   \n",
       "3                           0                                      0   \n",
       "4                           0                                      0   \n",
       "\n",
       "   Number of social security insurance policies  \n",
       "0                                             0  \n",
       "1                                             0  \n",
       "2                                             0  \n",
       "3                                             0  \n",
       "4                                             0  \n",
       "\n",
       "[5 rows x 84 columns]"
      ]
     },
     "execution_count": 28,
     "metadata": {},
     "output_type": "execute_result"
    }
   ],
   "source": [
    "# Drop Customer Main Type after splitting\n",
    "X_encoded =X_encoded.drop(['Customer main type'], axis=1);\n",
    "X_encoded.head()"
   ]
  },
  {
   "cell_type": "code",
   "execution_count": 29,
   "metadata": {},
   "outputs": [
    {
     "data": {
      "text/html": [
       "<div>\n",
       "<style scoped>\n",
       "    .dataframe tbody tr th:only-of-type {\n",
       "        vertical-align: middle;\n",
       "    }\n",
       "\n",
       "    .dataframe tbody tr th {\n",
       "        vertical-align: top;\n",
       "    }\n",
       "\n",
       "    .dataframe thead th {\n",
       "        text-align: right;\n",
       "    }\n",
       "</style>\n",
       "<table border=\"1\" class=\"dataframe\">\n",
       "  <thead>\n",
       "    <tr style=\"text-align: right;\">\n",
       "      <th></th>\n",
       "      <th>Customer Subtype</th>\n",
       "      <th>Number of houses</th>\n",
       "      <th>Avg size household</th>\n",
       "      <th>Avg Age</th>\n",
       "      <th>Roman catholic</th>\n",
       "      <th>Protestant</th>\n",
       "      <th>Other religion</th>\n",
       "      <th>No religion</th>\n",
       "      <th>Married</th>\n",
       "      <th>Living together</th>\n",
       "      <th>...</th>\n",
       "      <th>Successful hedonists</th>\n",
       "      <th>Driven Growers</th>\n",
       "      <th>Average Family</th>\n",
       "      <th>Career Loners</th>\n",
       "      <th>Living well</th>\n",
       "      <th>Cruising Seniors</th>\n",
       "      <th>Retired and Religeous</th>\n",
       "      <th>Family with grown ups</th>\n",
       "      <th>Conservative families</th>\n",
       "      <th>Farmers</th>\n",
       "    </tr>\n",
       "  </thead>\n",
       "  <tbody>\n",
       "    <tr>\n",
       "      <th>0</th>\n",
       "      <td>33</td>\n",
       "      <td>1</td>\n",
       "      <td>3</td>\n",
       "      <td>2</td>\n",
       "      <td>0</td>\n",
       "      <td>5</td>\n",
       "      <td>1</td>\n",
       "      <td>3</td>\n",
       "      <td>7</td>\n",
       "      <td>0</td>\n",
       "      <td>...</td>\n",
       "      <td>0</td>\n",
       "      <td>0</td>\n",
       "      <td>0</td>\n",
       "      <td>0</td>\n",
       "      <td>0</td>\n",
       "      <td>0</td>\n",
       "      <td>0</td>\n",
       "      <td>1</td>\n",
       "      <td>0</td>\n",
       "      <td>0</td>\n",
       "    </tr>\n",
       "    <tr>\n",
       "      <th>1</th>\n",
       "      <td>37</td>\n",
       "      <td>1</td>\n",
       "      <td>2</td>\n",
       "      <td>2</td>\n",
       "      <td>1</td>\n",
       "      <td>4</td>\n",
       "      <td>1</td>\n",
       "      <td>4</td>\n",
       "      <td>6</td>\n",
       "      <td>2</td>\n",
       "      <td>...</td>\n",
       "      <td>0</td>\n",
       "      <td>0</td>\n",
       "      <td>0</td>\n",
       "      <td>0</td>\n",
       "      <td>0</td>\n",
       "      <td>0</td>\n",
       "      <td>0</td>\n",
       "      <td>1</td>\n",
       "      <td>0</td>\n",
       "      <td>0</td>\n",
       "    </tr>\n",
       "    <tr>\n",
       "      <th>2</th>\n",
       "      <td>37</td>\n",
       "      <td>1</td>\n",
       "      <td>2</td>\n",
       "      <td>2</td>\n",
       "      <td>0</td>\n",
       "      <td>4</td>\n",
       "      <td>2</td>\n",
       "      <td>4</td>\n",
       "      <td>3</td>\n",
       "      <td>2</td>\n",
       "      <td>...</td>\n",
       "      <td>0</td>\n",
       "      <td>0</td>\n",
       "      <td>0</td>\n",
       "      <td>0</td>\n",
       "      <td>0</td>\n",
       "      <td>0</td>\n",
       "      <td>0</td>\n",
       "      <td>1</td>\n",
       "      <td>0</td>\n",
       "      <td>0</td>\n",
       "    </tr>\n",
       "    <tr>\n",
       "      <th>3</th>\n",
       "      <td>9</td>\n",
       "      <td>1</td>\n",
       "      <td>3</td>\n",
       "      <td>3</td>\n",
       "      <td>2</td>\n",
       "      <td>3</td>\n",
       "      <td>2</td>\n",
       "      <td>4</td>\n",
       "      <td>5</td>\n",
       "      <td>2</td>\n",
       "      <td>...</td>\n",
       "      <td>0</td>\n",
       "      <td>0</td>\n",
       "      <td>1</td>\n",
       "      <td>0</td>\n",
       "      <td>0</td>\n",
       "      <td>0</td>\n",
       "      <td>0</td>\n",
       "      <td>0</td>\n",
       "      <td>0</td>\n",
       "      <td>0</td>\n",
       "    </tr>\n",
       "    <tr>\n",
       "      <th>4</th>\n",
       "      <td>40</td>\n",
       "      <td>1</td>\n",
       "      <td>4</td>\n",
       "      <td>2</td>\n",
       "      <td>1</td>\n",
       "      <td>4</td>\n",
       "      <td>1</td>\n",
       "      <td>4</td>\n",
       "      <td>7</td>\n",
       "      <td>1</td>\n",
       "      <td>...</td>\n",
       "      <td>0</td>\n",
       "      <td>0</td>\n",
       "      <td>0</td>\n",
       "      <td>0</td>\n",
       "      <td>0</td>\n",
       "      <td>0</td>\n",
       "      <td>0</td>\n",
       "      <td>0</td>\n",
       "      <td>0</td>\n",
       "      <td>1</td>\n",
       "    </tr>\n",
       "  </tbody>\n",
       "</table>\n",
       "<p>5 rows × 94 columns</p>\n",
       "</div>"
      ],
      "text/plain": [
       "   Customer Subtype  Number of houses  Avg size household  Avg Age  \\\n",
       "0                33                 1                   3        2   \n",
       "1                37                 1                   2        2   \n",
       "2                37                 1                   2        2   \n",
       "3                 9                 1                   3        3   \n",
       "4                40                 1                   4        2   \n",
       "\n",
       "   Roman catholic  Protestant  Other religion  No religion  Married  \\\n",
       "0               0           5               1            3        7   \n",
       "1               1           4               1            4        6   \n",
       "2               0           4               2            4        3   \n",
       "3               2           3               2            4        5   \n",
       "4               1           4               1            4        7   \n",
       "\n",
       "   Living together  ...  Successful hedonists  Driven Growers  Average Family  \\\n",
       "0                0  ...                     0               0               0   \n",
       "1                2  ...                     0               0               0   \n",
       "2                2  ...                     0               0               0   \n",
       "3                2  ...                     0               0               1   \n",
       "4                1  ...                     0               0               0   \n",
       "\n",
       "   Career Loners   Living well   Cruising Seniors  Retired and Religeous  \\\n",
       "0              0             0                  0                      0   \n",
       "1              0             0                  0                      0   \n",
       "2              0             0                  0                      0   \n",
       "3              0             0                  0                      0   \n",
       "4              0             0                  0                      0   \n",
       "\n",
       "    Family with grown ups  Conservative families  Farmers  \n",
       "0                       1                      0        0  \n",
       "1                       1                      0        0  \n",
       "2                       1                      0        0  \n",
       "3                       0                      0        0  \n",
       "4                       0                      0        1  \n",
       "\n",
       "[5 rows x 94 columns]"
      ]
     },
     "execution_count": 29,
     "metadata": {},
     "output_type": "execute_result"
    }
   ],
   "source": [
    "# Add dummies\n",
    "X_encoded = X_encoded.merge(dummy,left_index=True,right_index=True);\n",
    "X_encoded.head(5)"
   ]
  },
  {
   "cell_type": "code",
   "execution_count": 30,
   "metadata": {},
   "outputs": [
    {
     "name": "stdout",
     "output_type": "stream",
     "text": [
      "       Customer Subtype  Number of houses  Avg size household      Avg Age  \\\n",
      "count       5822.000000       5822.000000         5822.000000  5822.000000   \n",
      "mean          24.253349          1.110615            2.678805     2.991240   \n",
      "std           12.846706          0.405842            0.789835     0.814589   \n",
      "min            1.000000          1.000000            1.000000     1.000000   \n",
      "25%           10.000000          1.000000            2.000000     2.000000   \n",
      "50%           30.000000          1.000000            3.000000     3.000000   \n",
      "75%           35.000000          1.000000            3.000000     3.000000   \n",
      "max           41.000000         10.000000            5.000000     6.000000   \n",
      "\n",
      "       Roman catholic   Protestant  Other religion  No religion      Married  \\\n",
      "count     5822.000000  5822.000000     5822.000000  5822.000000  5822.000000   \n",
      "mean         0.696496     4.626932        1.069907     3.258502     6.183442   \n",
      "std          1.003234     1.715843        1.017503     1.597647     1.909482   \n",
      "min          0.000000     0.000000        0.000000     0.000000     0.000000   \n",
      "25%          0.000000     4.000000        0.000000     2.000000     5.000000   \n",
      "50%          0.000000     5.000000        1.000000     3.000000     6.000000   \n",
      "75%          1.000000     6.000000        2.000000     4.000000     7.000000   \n",
      "max          9.000000     9.000000        5.000000     9.000000     9.000000   \n",
      "\n",
      "       Living together  ...  Successful hedonists  Driven Growers  \\\n",
      "count      5822.000000  ...           5822.000000     5822.000000   \n",
      "mean          0.883545  ...              0.094813        0.086225   \n",
      "std           0.965924  ...              0.292981        0.280720   \n",
      "min           0.000000  ...              0.000000        0.000000   \n",
      "25%           0.000000  ...              0.000000        0.000000   \n",
      "50%           1.000000  ...              0.000000        0.000000   \n",
      "75%           1.000000  ...              0.000000        0.000000   \n",
      "max           7.000000  ...              1.000000        1.000000   \n",
      "\n",
      "       Average Family  Career Loners   Living well   Cruising Seniors  \\\n",
      "count     5822.000000    5822.000000   5822.000000        5822.000000   \n",
      "mean         0.152181       0.008932      0.097733           0.035211   \n",
      "std          0.359227       0.094092      0.296978           0.184329   \n",
      "min          0.000000       0.000000      0.000000           0.000000   \n",
      "25%          0.000000       0.000000      0.000000           0.000000   \n",
      "50%          0.000000       0.000000      0.000000           0.000000   \n",
      "75%          0.000000       0.000000      0.000000           0.000000   \n",
      "max          1.000000       1.000000      1.000000           1.000000   \n",
      "\n",
      "       Retired and Religeous   Family with grown ups  Conservative families  \\\n",
      "count            5822.000000             5822.000000            5822.000000   \n",
      "mean                0.094469                0.268464               0.114565   \n",
      "std                 0.292506                0.443199               0.318524   \n",
      "min                 0.000000                0.000000               0.000000   \n",
      "25%                 0.000000                0.000000               0.000000   \n",
      "50%                 0.000000                0.000000               0.000000   \n",
      "75%                 0.000000                1.000000               0.000000   \n",
      "max                 1.000000                1.000000               1.000000   \n",
      "\n",
      "           Farmers  \n",
      "count  5822.000000  \n",
      "mean      0.047406  \n",
      "std       0.212525  \n",
      "min       0.000000  \n",
      "25%       0.000000  \n",
      "50%       0.000000  \n",
      "75%       0.000000  \n",
      "max       1.000000  \n",
      "\n",
      "[8 rows x 94 columns]\n"
     ]
    }
   ],
   "source": [
    "X = X_encoded\n",
    "print(X.describe())"
   ]
  },
  {
   "cell_type": "code",
   "execution_count": 31,
   "metadata": {},
   "outputs": [
    {
     "name": "stdout",
     "output_type": "stream",
     "text": [
      "Training Set Shape after oversampling:    (10948, 94) (10948,)\n",
      "col_0     0     1\n",
      "row_0            \n",
      "0      5474     0\n",
      "1         0  5474\n"
     ]
    }
   ],
   "source": [
    "#Oversampling of Class 1 variables required due to imbalance\n",
    "\n",
    "doOversampling = True\n",
    "\n",
    "if doOversampling:\n",
    "    sm = SMOTE(kind='regular')\n",
    "    X_train, y_train = sm.fit_sample(X, y)\n",
    "    print('Training Set Shape after oversampling:   ', X_train.shape, y_train.shape)\n",
    "    print(pd.crosstab(y_train,y_train))\n",
    "else:\n",
    "    X_train = X\n",
    "    y_train = y"
   ]
  },
  {
   "cell_type": "markdown",
   "metadata": {},
   "source": [
    "### Feature Selection using correlation analysis of variables"
   ]
  },
  {
   "cell_type": "code",
   "execution_count": 32,
   "metadata": {},
   "outputs": [
    {
     "name": "stdout",
     "output_type": "stream",
     "text": [
      "Top Absolute Correlations\n",
      "Rented house                                      Home owners                                      0.999554\n",
      "National Health Service                           Private health insurance                         0.999239\n",
      "Contribution third party insurance (agriculture)  Number of third party insurance (agriculture)    0.987579\n",
      "Contribution private third party insurance        Number of private third party insurance          0.981369\n",
      "Contribution family accidents insurance policies  Number of family accidents insurance policies    0.979969\n",
      "Contribution moped policies                       Number of moped policies                         0.969708\n",
      "Contribution social security insurance policies   Number of social security insurance policies     0.966239\n",
      "Contribution trailer policies                     Number of trailer policies                       0.966081\n",
      "Contribution lorry policies                       Number of lorry policies                         0.948663\n",
      "Contribution disability insurance policies        Number of disability insurance policies          0.948430\n",
      "Contribution bicycle policies                     Number of bicycle policies                       0.935854\n",
      "Contribution tractor policies                     Number of tractor policies                       0.929818\n",
      "Contribution car policies                         Number of car policies                           0.916154\n",
      "Contribution agricultural machines policies       Number of agricultural machines policies         0.909671\n",
      "Contribution motorcycle/scooter policies          Number of motorcycle/scooter policies            0.904855\n",
      "Contribution boat policies                        Number of boat policies                          0.904436\n",
      "Contribution delivery van policies                Number of delivery van policies                  0.902996\n",
      "Contribution private accident insurance policies  Number of private accident insurance policies    0.897562\n",
      "Contribution third party insurance (firms)        Number of third party insurance (firms)          0.895407\n",
      "Married                                           Other relation                                   0.884362\n",
      "Contribution property insurance policies          Number of property insurance policies            0.875256\n",
      "Contribution surfboard policies                   Number of surfboard policies                     0.870334\n",
      "Contribution fire policies                        Number of re policies                            0.865536\n",
      "Contribution life insurances                      Number of life insurances                        0.850171\n",
      "Avg size household                                Household with children                          0.794014\n",
      "Medium level education                            Lower level education                            0.747582\n",
      "Other relation                                    Singles                                          0.745642\n",
      "Protestant                                        No religion                                      0.741895\n",
      "1 car                                             No car                                           0.734564\n",
      "High level education                              Social class A                                   0.693691\n",
      "High status                                       Social class A                                   0.692606\n",
      "Married                                           Singles                                          0.684233\n",
      "Other relation                                    No car                                           0.661458\n",
      "Avg size household                                Singles                                          0.659553\n",
      "Income < 30.000                                   Average income                                   0.645605\n",
      "High level education                              Lower level education                            0.638594\n",
      "Lower level education                             Social class C                                   0.631269\n",
      "Singles                                           Household with children                          0.627347\n",
      "Income 75-122.000                                 Average income                                   0.616505\n",
      "High status                                       Private health insurance                         0.613761\n",
      "                                                  National Health Service                          0.612747\n",
      "Skilled labourers                                 Social class C                                   0.612365\n",
      "Married                                           No car                                           0.610018\n",
      "dtype: float64\n"
     ]
    }
   ],
   "source": [
    "def get_redundant_pairs(X):\n",
    "    '''Get diagonal and lower triangular pairs of correlation matrix'''\n",
    "    pairs_to_drop = set()\n",
    "    cols = X.columns\n",
    "    for i in range(0, X.shape[1]):\n",
    "        for j in range(0, i+1):\n",
    "            pairs_to_drop.add((cols[i], cols[j]))\n",
    "    return pairs_to_drop\n",
    "\n",
    "def get_top_abs_correlations(X, n=5):\n",
    "    au_corr = X.corr().abs().unstack()\n",
    "    labels_to_drop = get_redundant_pairs(X)\n",
    "    au_corr = au_corr.drop(labels=labels_to_drop).sort_values(ascending=False)\n",
    "    return au_corr[0:n]\n",
    "\n",
    "print(\"Top Correlations\")\n",
    "print(get_top_abs_correlations(X, 43))"
   ]
  },
  {
   "cell_type": "code",
   "execution_count": 33,
   "metadata": {},
   "outputs": [],
   "source": [
    " var =['Rented house', 'Home owners', 'National Health Service',                           'Private health insurance', \n",
    "'Contribution private third party insurance',        'Number of private third party insurance',          \n",
    "'Contribution third party insurance (agriculture)',  'Number of third party insurance (agriculture)',    \n",
    "'Contribution family accidents insurance policies',  'Number of family accidents insurance policies', \n",
    "'Contribution moped policies',                       'Number of moped policies',\n",
    "'Contribution social security insurance policies',   'Number of social security insurance policies',\n",
    "'Contribution trailer policies',                     'Number of trailer policies',\n",
    "'Contribution delivery van policies',                'Number of delivery van policies',                  \n",
    "'Contribution bicycle policies',                     'Number of bicycle policies',                       \n",
    "'Contribution disability insurance policies',        'Number of disability insurance policies',     \n",
    "'Contribution agricultural machines policies',       'Number of agricultural machines policies',\n",
    "'Contribution surfboard policies',                   'Number of surfboard policies',                     \n",
    "'Contribution tractor policies',                     'Number of tractor policies',\n",
    "'Contribution car policies',                         'Number of car policies',\n",
    "'Contribution surfboard policies',                   'Number of surfboard policies',\n",
    "'Contribution motorcycle/scooter policies',          'Number of motorcycle/scooter policies',\n",
    "'Contribution boat policies',                        'Number of boat policies',\n",
    "'Contribution private accident insurance policies',  'Number of private accident insurance policies',\n",
    "'Contribution third party insurance (firms)',        'Number of third party insurance (firms)',\n",
    "'Contribution property insurance policies',          'Number of property insurance policies',\n",
    "'Contribution fire policies',                        'Number of re policies',\n",
    "'Contribution life insurances',                      'Number of life insurances',\n",
    "\n",
    "'Married',                                           'Other relation',                                                                       \n",
    "                    \n",
    "                            \n",
    "'Avg size household',                                'Household with children',                          \n",
    "        \n",
    "'Other relation',                                    'Singles',                                         \n",
    "                       \n",
    "'1 car',                                             'No car',                                           \n",
    "'Medium level education',                            'Lower level education',                            \n",
    "'Protestant',                                        'No religion',                                                  \n",
    "'High status',                                       'Social class A',                                  \n",
    "'High level education',                              'Social class A',                                                       \n",
    "'Married',                                           'Singles',                                               \n",
    "'Avg size household',                                'Singles',                                                               \n",
    "'Other relation',                                    'No car',                                           \n",
    "'Income < 30.000',                                   'Average income',\n",
    "'High level education',                              'Lower level education',\n",
    "'Lower level education',                             'Social class C',\n",
    "'Singles',                                           'Household with children',\n",
    "'Income 75-122.000',                                 'Average income',\n",
    "'High status',                                       'Private health insurance',\n",
    "'Skilled labourers',                                 'Social class C']"
   ]
  },
  {
   "cell_type": "code",
   "execution_count": 171,
   "metadata": {},
   "outputs": [
    {
     "data": {
      "text/plain": [
       "82"
      ]
     },
     "execution_count": 171,
     "metadata": {},
     "output_type": "execute_result"
    }
   ],
   "source": [
    "len(var)"
   ]
  },
  {
   "cell_type": "markdown",
   "metadata": {},
   "source": [
    "### Investigation into how correlated each variable in a given pair is with the target class. The least correlated of each pair will be removed"
   ]
  },
  {
   "cell_type": "code",
   "execution_count": 34,
   "metadata": {},
   "outputs": [
    {
     "name": "stdout",
     "output_type": "stream",
     "text": [
      "Remove less corelated variable\n",
      "\n",
      "Pair\n",
      " Corelation of: Caravan Policy and  Rented house\n",
      "0.0791\n",
      " Corelation of: Caravan Policy and  Home owners\n",
      "0.0784\n",
      "\n",
      "\n",
      "Pair\n",
      " Corelation of: Caravan Policy and  National Health Service\n",
      "0.0584\n",
      " Corelation of: Caravan Policy and  Private health insurance\n",
      "0.0575\n",
      "\n",
      "\n",
      "Pair\n",
      " Corelation of: Caravan Policy and  Contribution private third party insurance\n",
      "0.0965\n",
      " Corelation of: Caravan Policy and  Number of private third party insurance\n",
      "0.0894\n",
      "\n",
      "\n",
      "Pair\n",
      " Corelation of: Caravan Policy and  Contribution third party insurance (agriculture)\n",
      "0.0216\n",
      " Corelation of: Caravan Policy and  Number of third party insurance (agriculture)\n",
      "0.0213\n",
      "\n",
      "\n",
      "Pair\n",
      " Corelation of: Caravan Policy and  Contribution family accidents insurance policies\n",
      "0.0402\n",
      " Corelation of: Caravan Policy and  Number of family accidents insurance policies\n",
      "0.0335\n",
      "\n",
      "\n",
      "Pair\n",
      " Corelation of: Caravan Policy and  Contribution moped policies\n",
      "0.0444\n",
      " Corelation of: Caravan Policy and  Number of moped policies\n",
      "0.0451\n",
      "\n",
      "\n",
      "Pair\n",
      " Corelation of: Caravan Policy and  Contribution social security insurance policies\n",
      "0.0628\n",
      " Corelation of: Caravan Policy and  Number of social security insurance policies\n",
      "0.0667\n",
      "\n",
      "\n",
      "Pair\n",
      " Corelation of: Caravan Policy and  Contribution trailer policies\n",
      "0.0126\n",
      " Corelation of: Caravan Policy and  Number of trailer policies\n",
      "0.0094\n",
      "\n",
      "\n",
      "Pair\n",
      " Corelation of: Caravan Policy and  Contribution delivery van policies\n",
      "0.0065\n",
      " Corelation of: Caravan Policy and  Number of delivery van policies\n",
      "0.0092\n",
      "\n",
      "\n",
      "Pair\n",
      " Corelation of: Caravan Policy and  Contribution bicycle policies\n",
      "0.0287\n",
      " Corelation of: Caravan Policy and  Number of bicycle policies\n",
      "0.0341\n",
      "\n",
      "\n",
      "Pair\n",
      " Corelation of: Caravan Policy and  Contribution disability insurance policies\n",
      "0.0305\n",
      " Corelation of: Caravan Policy and  Number of disability insurance policies\n",
      "0.0223\n",
      "\n",
      "\n",
      "Pair\n",
      " Corelation of: Caravan Policy and  Contribution agricultural machines policies\n",
      "0.0144\n",
      " Corelation of: Caravan Policy and  Number of agricultural machines policies\n",
      "0.0126\n",
      "\n",
      "\n",
      "Pair\n",
      " Corelation of: Caravan Policy and  Contribution surfboard policies\n",
      "0.0117\n",
      " Corelation of: Caravan Policy and  Number of surfboard policies\n",
      "0.0262\n",
      "\n",
      "\n",
      "Pair\n",
      " Corelation of: Caravan Policy and  Contribution tractor policies\n",
      "0.0123\n",
      " Corelation of: Caravan Policy and  Number of tractor policies\n",
      "0.0172\n",
      "\n",
      "\n",
      "Pair\n",
      " Corelation of: Caravan Policy and  Contribution car policies\n",
      "0.1509\n",
      " Corelation of: Caravan Policy and  Number of car policies\n",
      "0.1442\n",
      "\n",
      "\n",
      "Pair\n",
      " Corelation of: Caravan Policy and  Contribution surfboard policies\n",
      "0.0117\n",
      " Corelation of: Caravan Policy and  Number of surfboard policies\n",
      "0.0262\n",
      "\n",
      "\n",
      "Pair\n",
      " Corelation of: Caravan Policy and  Contribution motorcycle/scooter policies\n",
      "0.0056\n",
      " Corelation of: Caravan Policy and  Number of motorcycle/scooter policies\n",
      "0.0086\n",
      "\n",
      "\n",
      "Pair\n",
      " Corelation of: Caravan Policy and  Contribution boat policies\n",
      "0.0914\n",
      " Corelation of: Caravan Policy and  Number of boat policies\n",
      "0.1057\n",
      "\n",
      "\n",
      "Pair\n",
      " Corelation of: Caravan Policy and  Contribution private accident insurance policies\n",
      "0.0096\n",
      " Corelation of: Caravan Policy and  Number of private accident insurance policies\n",
      "0.0085\n",
      "\n",
      "\n",
      "Pair\n",
      " Corelation of: Caravan Policy and  Contribution third party insurance (firms)\n",
      "0.0019\n",
      " Corelation of: Caravan Policy and  Number of third party insurance (firms)\n",
      "0.0008\n",
      "\n",
      "\n",
      "Pair\n",
      " Corelation of: Caravan Policy and  Contribution property insurance policies\n",
      "0.0055\n",
      " Corelation of: Caravan Policy and  Number of property insurance policies\n",
      "0.018\n",
      "\n",
      "\n",
      "Pair\n",
      " Corelation of: Caravan Policy and  Contribution fire policies\n",
      "0.0944\n",
      " Corelation of: Caravan Policy and  Number of re policies\n",
      "0.0614\n",
      "\n",
      "\n",
      "Pair\n",
      " Corelation of: Caravan Policy and  Contribution life insurances\n",
      "0.0212\n",
      " Corelation of: Caravan Policy and  Number of life insurances\n",
      "0.0371\n",
      "\n",
      "\n",
      "Pair\n",
      " Corelation of: Caravan Policy and  Married\n",
      "0.0703\n",
      " Corelation of: Caravan Policy and  Other relation\n",
      "0.0623\n",
      "\n",
      "\n",
      "Pair\n",
      " Corelation of: Caravan Policy and  Avg size household\n",
      "0.0356\n",
      " Corelation of: Caravan Policy and  Household with children\n",
      "0.0323\n",
      "\n",
      "\n",
      "Pair\n",
      " Corelation of: Caravan Policy and  Other relation\n",
      "0.0623\n",
      " Corelation of: Caravan Policy and  Singles\n",
      "0.0531\n",
      "\n",
      "\n",
      "Pair\n",
      " Corelation of: Caravan Policy and  1 car\n",
      "0.07\n",
      " Corelation of: Caravan Policy and  No car\n",
      "0.0765\n",
      "\n",
      "\n",
      "Pair\n",
      " Corelation of: Caravan Policy and  Medium level education\n",
      "0.0435\n",
      " Corelation of: Caravan Policy and  Lower level education\n",
      "0.0906\n",
      "\n",
      "\n",
      "Pair\n",
      " Corelation of: Caravan Policy and  Protestant\n",
      "0.0329\n",
      " Corelation of: Caravan Policy and  No religion\n",
      "0.0417\n",
      "\n",
      "\n",
      "Pair\n",
      " Corelation of: Caravan Policy and  High status\n",
      "0.0651\n",
      " Corelation of: Caravan Policy and  Social class A\n",
      "0.0635\n",
      "\n",
      "\n",
      "Pair\n",
      " Corelation of: Caravan Policy and  High level education\n",
      "0.0846\n",
      " Corelation of: Caravan Policy and  Social class A\n",
      "0.0635\n",
      "\n",
      "\n",
      "Pair\n",
      " Corelation of: Caravan Policy and  Married\n",
      "0.0703\n",
      " Corelation of: Caravan Policy and  Singles\n",
      "0.0531\n",
      "\n",
      "\n",
      "Pair\n",
      " Corelation of: Caravan Policy and  Avg size household\n",
      "0.0356\n",
      " Corelation of: Caravan Policy and  Singles\n",
      "0.0531\n",
      "\n",
      "\n",
      "Pair\n",
      " Corelation of: Caravan Policy and  Other relation\n",
      "0.0623\n",
      " Corelation of: Caravan Policy and  No car\n",
      "0.0765\n",
      "\n",
      "\n",
      "Pair\n",
      " Corelation of: Caravan Policy and  Income < 30.000\n",
      "0.0798\n",
      " Corelation of: Caravan Policy and  Average income\n",
      "0.0902\n",
      "\n",
      "\n",
      "Pair\n",
      " Corelation of: Caravan Policy and  High level education\n",
      "0.0846\n",
      " Corelation of: Caravan Policy and  Lower level education\n",
      "0.0906\n",
      "\n",
      "\n",
      "Pair\n",
      " Corelation of: Caravan Policy and  Lower level education\n",
      "0.0906\n",
      " Corelation of: Caravan Policy and  Social class C\n",
      "0.0423\n",
      "\n",
      "\n",
      "Pair\n",
      " Corelation of: Caravan Policy and  Singles\n",
      "0.0531\n",
      " Corelation of: Caravan Policy and  Household with children\n",
      "0.0323\n",
      "\n",
      "\n",
      "Pair\n",
      " Corelation of: Caravan Policy and  Income 75-122.000\n",
      "0.0579\n",
      " Corelation of: Caravan Policy and  Average income\n",
      "0.0902\n",
      "\n",
      "\n",
      "Pair\n",
      " Corelation of: Caravan Policy and  High status\n",
      "0.0651\n",
      " Corelation of: Caravan Policy and  Private health insurance\n",
      "0.0575\n",
      "\n",
      "\n",
      "Pair\n",
      " Corelation of: Caravan Policy and  Skilled labourers\n",
      "0.0425\n",
      " Corelation of: Caravan Policy and  Social class C\n",
      "0.0423\n",
      "\n",
      "\n",
      "Pair\n"
     ]
    },
    {
     "ename": "IndexError",
     "evalue": "list index out of range",
     "output_type": "error",
     "traceback": [
      "\u001b[0;31m---------------------------------------------------------------------------\u001b[0m",
      "\u001b[0;31mIndexError\u001b[0m                                Traceback (most recent call last)",
      "\u001b[0;32m<ipython-input-34-6782d03625e8>\u001b[0m in \u001b[0;36m<module>\u001b[0;34m\u001b[0m\n\u001b[1;32m      6\u001b[0m     \u001b[0mprint\u001b[0m\u001b[0;34m(\u001b[0m\u001b[0;34m''\u001b[0m\u001b[0;34m)\u001b[0m\u001b[0;34m\u001b[0m\u001b[0;34m\u001b[0m\u001b[0m\n\u001b[1;32m      7\u001b[0m     \u001b[0mprint\u001b[0m\u001b[0;34m(\u001b[0m\u001b[0;34m'Pair'\u001b[0m\u001b[0;34m)\u001b[0m\u001b[0;34m\u001b[0m\u001b[0;34m\u001b[0m\u001b[0m\n\u001b[0;32m----> 8\u001b[0;31m     \u001b[0mprint\u001b[0m\u001b[0;34m(\u001b[0m\u001b[0;34m' Corelation of: Caravan Policy and '\u001b[0m\u001b[0;34m,\u001b[0m \u001b[0mvar\u001b[0m\u001b[0;34m[\u001b[0m\u001b[0mi\u001b[0m\u001b[0;34m]\u001b[0m\u001b[0;34m)\u001b[0m\u001b[0;34m\u001b[0m\u001b[0;34m\u001b[0m\u001b[0m\n\u001b[0m\u001b[1;32m      9\u001b[0m     \u001b[0mcorelation\u001b[0m\u001b[0;34m=\u001b[0m \u001b[0mpearsonr\u001b[0m\u001b[0;34m(\u001b[0m\u001b[0mX\u001b[0m\u001b[0;34m[\u001b[0m\u001b[0mvar\u001b[0m\u001b[0;34m[\u001b[0m\u001b[0mi\u001b[0m\u001b[0;34m]\u001b[0m\u001b[0;34m]\u001b[0m\u001b[0;34m,\u001b[0m\u001b[0my\u001b[0m\u001b[0;34m)\u001b[0m\u001b[0;34m\u001b[0m\u001b[0;34m\u001b[0m\u001b[0m\n\u001b[1;32m     10\u001b[0m     \u001b[0mprint\u001b[0m\u001b[0;34m(\u001b[0m\u001b[0mnp\u001b[0m\u001b[0;34m.\u001b[0m\u001b[0mround\u001b[0m\u001b[0;34m(\u001b[0m\u001b[0mnp\u001b[0m\u001b[0;34m.\u001b[0m\u001b[0mabsolute\u001b[0m\u001b[0;34m(\u001b[0m\u001b[0mnp\u001b[0m\u001b[0;34m.\u001b[0m\u001b[0marray\u001b[0m\u001b[0;34m(\u001b[0m\u001b[0mcorelation\u001b[0m\u001b[0;34m)\u001b[0m\u001b[0;34m[\u001b[0m\u001b[0;36m0\u001b[0m\u001b[0;34m]\u001b[0m\u001b[0;34m)\u001b[0m\u001b[0;34m,\u001b[0m\u001b[0;36m4\u001b[0m\u001b[0;34m)\u001b[0m\u001b[0;34m)\u001b[0m\u001b[0;34m\u001b[0m\u001b[0;34m\u001b[0m\u001b[0m\n",
      "\u001b[0;31mIndexError\u001b[0m: list index out of range"
     ]
    }
   ],
   "source": [
    "\n",
    "from scipy.stats import pearsonr\n",
    "\n",
    "var= var\n",
    "print('Remove less corelated variable')\n",
    "for i in range(0,86,2):\n",
    "    print('')\n",
    "    print('Pair')\n",
    "    print(' Corelation of: Caravan Policy and ', var[i])\n",
    "    corelation= pearsonr(X[var[i]],y)\n",
    "    print(np.round(np.absolute(np.array(corelation)[0]),4))\n",
    "    i = i+1;      \n",
    "    print(' Corelation of: Caravan Policy and ', var[i])\n",
    "    corelation= pearsonr(X[var[i]],y)\n",
    "    print(np.round(np.absolute(np.array(corelation)[0]),4))\n",
    "    print('')\n",
    "\n",
    "\n"
   ]
  },
  {
   "cell_type": "code",
   "execution_count": 34,
   "metadata": {},
   "outputs": [
    {
     "name": "stdout",
     "output_type": "stream",
     "text": [
      "       Customer Subtype  Number of houses  Avg size household      Avg Age  \\\n",
      "count       5822.000000       5822.000000         5822.000000  5822.000000   \n",
      "mean          24.253349          1.110615            2.678805     2.991240   \n",
      "std           12.846706          0.405842            0.789835     0.814589   \n",
      "min            1.000000          1.000000            1.000000     1.000000   \n",
      "25%           10.000000          1.000000            2.000000     2.000000   \n",
      "50%           30.000000          1.000000            3.000000     3.000000   \n",
      "75%           35.000000          1.000000            3.000000     3.000000   \n",
      "max           41.000000         10.000000            5.000000     6.000000   \n",
      "\n",
      "       Roman catholic   Protestant  Other religion  No religion      Married  \\\n",
      "count     5822.000000  5822.000000     5822.000000  5822.000000  5822.000000   \n",
      "mean         0.696496     4.626932        1.069907     3.258502     6.183442   \n",
      "std          1.003234     1.715843        1.017503     1.597647     1.909482   \n",
      "min          0.000000     0.000000        0.000000     0.000000     0.000000   \n",
      "25%          0.000000     4.000000        0.000000     2.000000     5.000000   \n",
      "50%          0.000000     5.000000        1.000000     3.000000     6.000000   \n",
      "75%          1.000000     6.000000        2.000000     4.000000     7.000000   \n",
      "max          9.000000     9.000000        5.000000     9.000000     9.000000   \n",
      "\n",
      "       Living together  ...  Successful hedonists  Driven Growers  \\\n",
      "count      5822.000000  ...           5822.000000     5822.000000   \n",
      "mean          0.883545  ...              0.094813        0.086225   \n",
      "std           0.965924  ...              0.292981        0.280720   \n",
      "min           0.000000  ...              0.000000        0.000000   \n",
      "25%           0.000000  ...              0.000000        0.000000   \n",
      "50%           1.000000  ...              0.000000        0.000000   \n",
      "75%           1.000000  ...              0.000000        0.000000   \n",
      "max           7.000000  ...              1.000000        1.000000   \n",
      "\n",
      "       Average Family  Career Loners   Living well   Cruising Seniors  \\\n",
      "count     5822.000000    5822.000000   5822.000000        5822.000000   \n",
      "mean         0.152181       0.008932      0.097733           0.035211   \n",
      "std          0.359227       0.094092      0.296978           0.184329   \n",
      "min          0.000000       0.000000      0.000000           0.000000   \n",
      "25%          0.000000       0.000000      0.000000           0.000000   \n",
      "50%          0.000000       0.000000      0.000000           0.000000   \n",
      "75%          0.000000       0.000000      0.000000           0.000000   \n",
      "max          1.000000       1.000000      1.000000           1.000000   \n",
      "\n",
      "       Retired and Religeous   Family with grown ups  Conservative families  \\\n",
      "count            5822.000000             5822.000000            5822.000000   \n",
      "mean                0.094469                0.268464               0.114565   \n",
      "std                 0.292506                0.443199               0.318524   \n",
      "min                 0.000000                0.000000               0.000000   \n",
      "25%                 0.000000                0.000000               0.000000   \n",
      "50%                 0.000000                0.000000               0.000000   \n",
      "75%                 0.000000                1.000000               0.000000   \n",
      "max                 1.000000                1.000000               1.000000   \n",
      "\n",
      "           Farmers  \n",
      "count  5822.000000  \n",
      "mean      0.047406  \n",
      "std       0.212525  \n",
      "min       0.000000  \n",
      "25%       0.000000  \n",
      "50%       0.000000  \n",
      "75%       0.000000  \n",
      "max       1.000000  \n",
      "\n",
      "[8 rows x 94 columns]\n",
      "Variables selected :   ['Number of houses', 'Avg size household', 'Avg Age', 'Roman catholic', 'Other religion', 'No religion', 'Married', 'Living together', 'Household without children', 'High level education', 'Lower level education', 'High status', 'Entrepreneur', 'Farmer', 'Middle Management', 'Skilled labourers', 'Unskilled labourers', 'Social class A', 'Social class B1', 'Social class D', 'Rented house', '1 car', '2 cars', 'National Health Service', 'Income 30-45.000', 'Income 45-75.000', 'Income >123.000', 'Average income', 'Purchasing power class', 'Contribution private third party insurance', 'Contribution third party insurance (firms)', 'Contribution third party insurance (agriculture)', 'Contribution car policies', 'Contribution trailer policies', 'Contribution agricultural machines policies', 'Contribution private accident insurance policies', 'Contribution family accidents insurance policies', 'Contribution disability insurance policies', 'Contribution fire policies', 'Number of delivery van policies', 'Number of motorcycle/scooter policies', 'Number of tractor policies', 'Number of moped policies', 'Number of life insurances', 'Number of surfboard policies', 'Number of boat policies', 'Number of bicycle policies', 'Number of property insurance policies', 'Number of social security insurance policies', 'Successful hedonists', 'Driven Growers', 'Average Family', 'Career Loners', ' Living well', ' Cruising Seniors', 'Retired and Religeous', ' Family with grown ups', 'Conservative families', 'Farmers']\n",
      "\n",
      "\n",
      "X and y Input Data:    (5822, 59) (5822, 1)\n"
     ]
    }
   ],
   "source": [
    "var=58\n",
    "\n",
    "print(X.describe())\n",
    "print('Variables selected :  ', list(X.columns.values[[1,2,3,4,6,7,8,9,12,14,16,17,18,19,20,21,22,23,24,27,28,30,31,33,36,37,39,40,41,42,43,44,45,49,51,54,55,56,57,67,68,71,73,74,79,80,81,82,83,84,85,86,87,88,89,90,91,92,93]]))\n",
    "\n",
    "selected = X.columns.values[[1,2,3,4,6,7,8,9,12,14,16,17,18,19,20,21,22,23,24,27,28,30,31,33,36,37,39,40,41,42,43,44,45,49,51,54,55,56,57,67,68,71,73,74,79,80,81,82,83,84,85,86,87,88,89,90,91,92,93]]\n",
    "\n",
    "X1 = (X[X.columns[[1,2,3,4,6,7,8,9,12,14,16,17,18,19,20,21,22,23,24,27,28,30,31,33,36,37,39,40,41,42,43,44,45,49,51,54,55,56,57,67,68,71,73,74,79,80,81,82,83,84,85,86,87,88,89,90,91,92,93]]].values)\n",
    "\n",
    "\n",
    "\n",
    "# Normalization - Using MinMax Scaler\n",
    "min_max_scaler = preprocessing.MinMaxScaler()\n",
    "X1 = min_max_scaler.fit_transform(X1)\n",
    "\n",
    "y1 = np.vstack(df_train['CARAVAN POLICY'].values)\n",
    "\n",
    "print('\\n')\n",
    "print('X and y Input Data:   ', X1.shape, y1.shape)\n"
   ]
  },
  {
   "cell_type": "code",
   "execution_count": 35,
   "metadata": {},
   "outputs": [
    {
     "name": "stdout",
     "output_type": "stream",
     "text": [
      "Training Set Shape after oversampling:    (10948, 59) (10948,)\n",
      "col_0     0     1\n",
      "row_0            \n",
      "0      5474     0\n",
      "1         0  5474\n"
     ]
    }
   ],
   "source": [
    "# Once again oversampling Class 1\n",
    "\n",
    "doOversampling = True\n",
    "\n",
    "if doOversampling:\n",
    "# Apply regular SMOTE\n",
    "    sm = SMOTE(kind='regular')\n",
    "    X_train, y_train = sm.fit_sample(X1,y1)\n",
    "    print('Training Set Shape after oversampling:   ', X_train.shape, y_train.shape)\n",
    "    print(pd.crosstab(y_train,y_train))\n",
    "else:\n",
    "    X_train = X1\n",
    "    y_train = y1"
   ]
  },
  {
   "cell_type": "markdown",
   "metadata": {},
   "source": [
    "### Final Feature Selection Using Random Forrest\n",
    "\n",
    "Here, Random Forest is used to see which variables are most frequent in making predictions of class. Please note the change in indices after data index 5 due to Customer Main Type being removed. "
   ]
  },
  {
   "cell_type": "code",
   "execution_count": 41,
   "metadata": {},
   "outputs": [
    {
     "name": "stderr",
     "output_type": "stream",
     "text": [
      "[Parallel(n_jobs=1)]: Using backend SequentialBackend with 1 concurrent workers.\n",
      "[Parallel(n_jobs=1)]: Done 500 out of 500 | elapsed:    7.4s finished\n",
      "[Parallel(n_jobs=1)]: Using backend SequentialBackend with 1 concurrent workers.\n",
      "[Parallel(n_jobs=1)]: Done 500 out of 500 | elapsed:    0.1s finished\n"
     ]
    }
   ],
   "source": [
    "clf_RF = RandomForestClassifier(n_estimators=500, criterion='gini', max_depth=15,\n",
    "                                min_samples_split=2, min_samples_leaf=1, min_weight_fraction_leaf=0.0,\n",
    "                                max_features='auto', max_leaf_nodes=None, min_impurity_split=1e-07, \n",
    "                                bootstrap=True, oob_score=False, n_jobs=1, \n",
    "                                random_state=42, verbose=1, warm_start=False, class_weight=None)\n",
    "clf_RF.fit(X_train, y_train)\n",
    "y_pred_RF = clf_RF.predict(X_val)"
   ]
  },
  {
   "cell_type": "code",
   "execution_count": 42,
   "metadata": {},
   "outputs": [
    {
     "name": "stdout",
     "output_type": "stream",
     "text": [
      "Feature ranking:\n",
      "1. Contribution car policies (0.101243)\n",
      "2. Average income (0.056674)\n",
      "3. Contribution fire policies (0.048921)\n",
      "4. 1 car (0.047596)\n",
      "5. High level education (0.046827)\n",
      "6. Roman catholic (0.039172)\n",
      "7. Contribution private third party insurance (0.035041)\n",
      "8. Entrepreneur (0.031323)\n",
      "9. Income 45-75.000 (0.029654)\n",
      "10. Social class A (0.029386)\n",
      "11. Social class B1 (0.029002)\n",
      "12. Married (0.028755)\n",
      "13. 2 cars (0.027607)\n",
      "14. High status (0.025260)\n",
      "15. Living together (0.024990)\n",
      "16. Social class D (0.024686)\n",
      "17. Skilled labourers (0.023947)\n",
      "18. Lower level education (0.023251)\n",
      "19. Middle Management (0.023091)\n",
      "20. Income 30-45.000 (0.022667)\n",
      "21. Avg size household (0.022257)\n",
      "22. Purchasing power class (0.021856)\n",
      "23. No religion (0.021195)\n",
      "24. Other religion (0.021112)\n",
      "25. Household without children (0.019935)\n",
      "26. Avg Age (0.019119)\n",
      "27. Income >123.000 (0.018923)\n",
      "28. National Health Service (0.018878)\n",
      "29. Unskilled labourers (0.018148)\n",
      "30. Farmer (0.017276)\n",
      "31. Rented house (0.017102)\n",
      "32. Number of boat policies (0.006487)\n",
      "33. Number of life insurances (0.005753)\n",
      "34. Number of bicycle policies (0.005017)\n",
      "35.  Family with grown ups (0.004641)\n",
      "36. Number of houses (0.004159)\n",
      "37. Number of moped policies (0.003878)\n",
      "38. Number of social security insurance policies (0.003860)\n",
      "39. Driven Growers (0.003672)\n",
      "40. Conservative families (0.003417)\n",
      "41. Number of motorcycle/scooter policies (0.003247)\n",
      "42. Average Family (0.003228)\n",
      "43. Successful hedonists (0.002533)\n",
      "44. Retired and Religeous (0.001911)\n",
      "45. Contribution disability insurance policies (0.001832)\n",
      "46. Number of property insurance policies (0.001589)\n",
      "47. Contribution trailer policies (0.001503)\n",
      "48.  Living well (0.001403)\n",
      "49. Number of tractor policies (0.001250)\n",
      "50. Contribution third party insurance (agriculture) (0.001172)\n",
      "51. Contribution family accidents insurance policies (0.000936)\n",
      "52. Contribution third party insurance (firms) (0.000879)\n",
      "53.  Cruising Seniors (0.000663)\n",
      "54. Number of delivery van policies (0.000626)\n",
      "55. Contribution private accident insurance policies (0.000216)\n",
      "56. Number of surfboard policies (0.000153)\n",
      "57. Career Loners (0.000076)\n",
      "58. Contribution agricultural machines policies (0.000039)\n"
     ]
    },
    {
     "data": {
      "image/png": "[encoded data removed]",
      "text/plain": [
       "<Figure size 1008x216 with 1 Axes>"
      ]
     },
     "metadata": {
      "needs_background": "light"
     },
     "output_type": "display_data"
    }
   ],
   "source": [
    "lim = 20\n",
    "\n",
    "importances_RF = clf_RF.feature_importances_\n",
    "std = np.std([tree.feature_importances_ for tree in clf_RF.estimators_],\n",
    "             axis=0)\n",
    "indices1 = np.argsort(importances_RF[0:var])[::-1]\n",
    "\n",
    "indices = indices1[0:var]\n",
    "\n",
    "print(\"Feature ranking:\")\n",
    "\n",
    "for f in range(var):\n",
    "    print(\"%d. %s (%f)\" % (f + 1, (X.columns.values[[1,2,3,4,6,7,8,9,12,14,16,17,18,19,20,21,22,23,24,27,28,30,31,33,36,37,39,40,41,42,43,44,45,49,51,54,55,56,57,67,68,71,73,74,79,80,81,82,83,84,85,86,87,88,89,90,91,92,93]]).reshape(-1)[indices[f]], importances_RF[indices[f]]))\n",
    "\n",
    "# Plot the feature importances of the forest\n",
    "plt.figure(figsize=(14, 3))\n",
    "plt.title(\"20-Most Important Features - Random Forest\",size=20)\n",
    "plt.bar(range(var), importances_RF[indices],\n",
    "       color=\"#aa6d0a\", yerr=std[indices], align=\"center\")\n",
    "plt.yticks(size=14)\n",
    "plt.xticks(range(lim), (X.columns.values[[1,2,3,4,6,7,8,9,12,14,16,17,18,19,20,21,22,23,24,27,28,30,31,33,36,37,39,40,41,42,43,44,45,49,51,54,55,56,57,67,68,71,73,74,79,80,81,82,83,84,85,86,87,88,89,90,91,92,93]]).reshape(-1)[indices],rotation='vertical',size=12,color=\"#201506\")\n",
    "plt.xlim([-1, lim])\n",
    "plt.show()"
   ]
  },
  {
   "cell_type": "markdown",
   "metadata": {},
   "source": [
    "### Final Features Used"
   ]
  },
  {
   "cell_type": "code",
   "execution_count": 36,
   "metadata": {},
   "outputs": [
    {
     "name": "stdout",
     "output_type": "stream",
     "text": [
      "Variables selected :   ['Contribution car policies', 'Average income', 'Contribution fire policies', '1 car', 'High level education', 'Roman catholic', 'Contribution private third party insurance', 'Income 45-75.000', 'Social class B1', 'Married', 'Entrepreneur', 'Social class D', '2 cars', 'Social class A', 'Skilled labourers', 'High status', 'Middle Management', 'Living together', 'Lower level education', 'Income 30-45.000']\n",
      "\n",
      "\n",
      "X and y Input Data:    (5822, 20) (5822, 1)\n"
     ]
    }
   ],
   "source": [
    "var=20\n",
    "\n",
    "print('Variables selected :  ', list(X.columns.values[[45,40,57,30,14,4,42,37,24,8,18,27,31,23,21,17,20,9,16,36]]))\n",
    "                                     \n",
    "                      \n",
    "selected2 = X.columns.values[[45,40,57,30,14,4,42,37,24,8,18,27,31,23,21,17,20,9,16,36]]\n",
    "\n",
    "X2 = (X[X.columns[[45,40,57,30,14,4,42,37,24,8,18,27,31,23,21,17,20,9,16,36]]].values)\n",
    "\n",
    "\n",
    "\n",
    "# Normalization - Using MinMax Scaler\n",
    "min_max_scaler = preprocessing.MinMaxScaler()\n",
    "X2 = min_max_scaler.fit_transform(X2)\n",
    "\n",
    "y2 = np.vstack(df_train['CARAVAN POLICY'].values)\n",
    "\n",
    "print('\\n')\n",
    "print('X and y Input Data:   ', X2.shape, y2.shape)"
   ]
  },
  {
   "cell_type": "code",
   "execution_count": 37,
   "metadata": {},
   "outputs": [
    {
     "name": "stdout",
     "output_type": "stream",
     "text": [
      "Training Set Shape after oversampling:    (10948, 20) (10948,)\n",
      "col_0     0     1\n",
      "row_0            \n",
      "0      5474     0\n",
      "1         0  5474\n"
     ]
    }
   ],
   "source": [
    "doOversampling = True\n",
    "\n",
    "if doOversampling:\n",
    "    sm = SMOTE(kind='regular')\n",
    "    X_train, y_train = sm.fit_sample(X2, y2)\n",
    "    print('Training Set Shape after oversampling:   ', X_train.shape, y_train.shape)\n",
    "    print(pd.crosstab(y_train,y_train))\n",
    "else:\n",
    "    X_train = X2\n",
    "    y_train = y2"
   ]
  },
  {
   "cell_type": "markdown",
   "metadata": {},
   "source": [
    "### Measuring Classifiers on training data"
   ]
  },
  {
   "cell_type": "code",
   "execution_count": 38,
   "metadata": {},
   "outputs": [],
   "source": [
    "clf_DT = DecisionTreeClassifier(criterion='gini', splitter='best', max_depth=10, \n",
    "                                min_samples_split=2, min_samples_leaf=1, \n",
    "                                min_weight_fraction_leaf=0.0, max_features=None, \n",
    "                                max_leaf_nodes=None, min_impurity_split=1e-07, random_state = 0)\n",
    "clf_DT.fit(X2, y2)\n",
    "\n",
    "cv_scoresDT = cross_val_score(clf_DT, X2, y2, cv=10)\n",
    "\n",
    "y_pred_DT = cross_val_predict(clf_DT, X2, y2, cv=10)"
   ]
  },
  {
   "cell_type": "code",
   "execution_count": 39,
   "metadata": {},
   "outputs": [],
   "source": [
    "clf_NB = BernoulliNB()\n",
    "clf_NB.fit(X2, y2)\n",
    "\n",
    "cv_scoresNB = cross_val_score(clf_NB, X2, y2, cv=10)\n",
    "y_pred_NB = cross_val_predict(clf_NB, X2, y2, cv=10)\n"
   ]
  },
  {
   "cell_type": "code",
   "execution_count": 40,
   "metadata": {},
   "outputs": [],
   "source": [
    "MLPClassifier(activation='relu', alpha=1e-05,\n",
    "       batch_size='auto', beta_1=0.9, beta_2=0.999, early_stopping=False,\n",
    "       epsilon=1e-08, hidden_layer_sizes=(64), learning_rate='constant',\n",
    "       learning_rate_init=0.001, max_iter=2000, momentum=0.9,\n",
    "       nesterovs_momentum=True, power_t=0.5, random_state=0, shuffle=True,\n",
    "       tol=0.001, validation_fraction=0.1, verbose=True,\n",
    "       warm_start=False)\n",
    "clf_MLP = MLPClassifier(alpha=1e-05, hidden_layer_sizes=(64))\n",
    "clf_MLP.fit(X2, y2)\n",
    "\n",
    "cv_scoresMLP = cross_val_score(clf_MLP, X2, y2, cv=10)\n",
    "y_pred_MLP = cross_val_predict(clf_MLP, X2, y2, cv=10)"
   ]
  },
  {
   "cell_type": "code",
   "execution_count": 41,
   "metadata": {},
   "outputs": [
    {
     "name": "stdout",
     "output_type": "stream",
     "text": [
      "[LibLinear][[ 1.74874855  0.84662763  0.83791425  0.67298073  0.93681994 -0.600214\n",
      "   0.40483042  0.18506451 -0.5377935   0.62332042  0.49301714 -0.11141558\n",
      "  -0.18930338 -0.70182316  0.45820083  0.67775341  1.02419016 -0.69315849\n",
      "  -0.70095766  0.52491991]]\n",
      "[-2.83675291]\n",
      "[LibLinear][LibLinear][LibLinear][LibLinear][LibLinear][LibLinear][LibLinear][LibLinear][LibLinear][LibLinear][LibLinear][LibLinear][LibLinear][LibLinear][LibLinear][LibLinear][LibLinear][LibLinear][LibLinear][LibLinear]"
     ]
    }
   ],
   "source": [
    "clf_Log = LogisticRegression(solver='liblinear', max_iter=1000, \n",
    "                             random_state=0,verbose=2,class_weight='balanced')\n",
    "\n",
    "clf_Log.fit(X2, y2)\n",
    "print(clf_Log.coef_)\n",
    "print(clf_Log.intercept_)\n",
    "\n",
    "cv_scoresLog = cross_val_score(clf_Log, X2, y2, cv=10)\n",
    "y_pred_Log = cross_val_predict(clf_Log, X2, y2, cv=10)"
   ]
  },
  {
   "cell_type": "code",
   "execution_count": 43,
   "metadata": {},
   "outputs": [
    {
     "name": "stderr",
     "output_type": "stream",
     "text": [
      "[Parallel(n_jobs=1)]: Using backend SequentialBackend with 1 concurrent workers.\n",
      "[Parallel(n_jobs=1)]: Done 500 out of 500 | elapsed:    2.2s finished\n",
      "[Parallel(n_jobs=1)]: Using backend SequentialBackend with 1 concurrent workers.\n",
      "[Parallel(n_jobs=1)]: Done 500 out of 500 | elapsed:    2.0s finished\n",
      "[Parallel(n_jobs=1)]: Using backend SequentialBackend with 1 concurrent workers.\n",
      "[Parallel(n_jobs=1)]: Done 500 out of 500 | elapsed:    0.1s finished\n",
      "[Parallel(n_jobs=1)]: Using backend SequentialBackend with 1 concurrent workers.\n",
      "[Parallel(n_jobs=1)]: Done 500 out of 500 | elapsed:    2.2s finished\n",
      "[Parallel(n_jobs=1)]: Using backend SequentialBackend with 1 concurrent workers.\n",
      "[Parallel(n_jobs=1)]: Done 500 out of 500 | elapsed:    0.1s finished\n",
      "[Parallel(n_jobs=1)]: Using backend SequentialBackend with 1 concurrent workers.\n",
      "[Parallel(n_jobs=1)]: Done 500 out of 500 | elapsed:    2.0s finished\n",
      "[Parallel(n_jobs=1)]: Using backend SequentialBackend with 1 concurrent workers.\n",
      "[Parallel(n_jobs=1)]: Done 500 out of 500 | elapsed:    0.1s finished\n",
      "[Parallel(n_jobs=1)]: Using backend SequentialBackend with 1 concurrent workers.\n",
      "[Parallel(n_jobs=1)]: Done 500 out of 500 | elapsed:    2.2s finished\n",
      "[Parallel(n_jobs=1)]: Using backend SequentialBackend with 1 concurrent workers.\n",
      "[Parallel(n_jobs=1)]: Done 500 out of 500 | elapsed:    0.1s finished\n",
      "[Parallel(n_jobs=1)]: Using backend SequentialBackend with 1 concurrent workers.\n",
      "[Parallel(n_jobs=1)]: Done 500 out of 500 | elapsed:    2.1s finished\n",
      "[Parallel(n_jobs=1)]: Using backend SequentialBackend with 1 concurrent workers.\n",
      "[Parallel(n_jobs=1)]: Done 500 out of 500 | elapsed:    0.1s finished\n",
      "[Parallel(n_jobs=1)]: Using backend SequentialBackend with 1 concurrent workers.\n",
      "[Parallel(n_jobs=1)]: Done 500 out of 500 | elapsed:    2.1s finished\n",
      "[Parallel(n_jobs=1)]: Using backend SequentialBackend with 1 concurrent workers.\n",
      "[Parallel(n_jobs=1)]: Done 500 out of 500 | elapsed:    0.1s finished\n",
      "[Parallel(n_jobs=1)]: Using backend SequentialBackend with 1 concurrent workers.\n",
      "[Parallel(n_jobs=1)]: Done 500 out of 500 | elapsed:    1.9s finished\n",
      "[Parallel(n_jobs=1)]: Using backend SequentialBackend with 1 concurrent workers.\n",
      "[Parallel(n_jobs=1)]: Done 500 out of 500 | elapsed:    0.1s finished\n",
      "[Parallel(n_jobs=1)]: Using backend SequentialBackend with 1 concurrent workers.\n",
      "[Parallel(n_jobs=1)]: Done 500 out of 500 | elapsed:    1.8s finished\n",
      "[Parallel(n_jobs=1)]: Using backend SequentialBackend with 1 concurrent workers.\n",
      "[Parallel(n_jobs=1)]: Done 500 out of 500 | elapsed:    0.1s finished\n",
      "[Parallel(n_jobs=1)]: Using backend SequentialBackend with 1 concurrent workers.\n",
      "[Parallel(n_jobs=1)]: Done 500 out of 500 | elapsed:    2.2s finished\n",
      "[Parallel(n_jobs=1)]: Using backend SequentialBackend with 1 concurrent workers.\n",
      "[Parallel(n_jobs=1)]: Done 500 out of 500 | elapsed:    0.1s finished\n",
      "[Parallel(n_jobs=1)]: Using backend SequentialBackend with 1 concurrent workers.\n",
      "[Parallel(n_jobs=1)]: Done 500 out of 500 | elapsed:    2.2s finished\n",
      "[Parallel(n_jobs=1)]: Using backend SequentialBackend with 1 concurrent workers.\n",
      "[Parallel(n_jobs=1)]: Done 500 out of 500 | elapsed:    0.1s finished\n",
      "[Parallel(n_jobs=1)]: Using backend SequentialBackend with 1 concurrent workers.\n",
      "[Parallel(n_jobs=1)]: Done 500 out of 500 | elapsed:    2.1s finished\n",
      "[Parallel(n_jobs=1)]: Using backend SequentialBackend with 1 concurrent workers.\n",
      "[Parallel(n_jobs=1)]: Done 500 out of 500 | elapsed:    0.1s finished\n",
      "[Parallel(n_jobs=1)]: Using backend SequentialBackend with 1 concurrent workers.\n",
      "[Parallel(n_jobs=1)]: Done 500 out of 500 | elapsed:    2.0s finished\n",
      "[Parallel(n_jobs=1)]: Using backend SequentialBackend with 1 concurrent workers.\n",
      "[Parallel(n_jobs=1)]: Done 500 out of 500 | elapsed:    0.1s finished\n",
      "[Parallel(n_jobs=1)]: Using backend SequentialBackend with 1 concurrent workers.\n",
      "[Parallel(n_jobs=1)]: Done 500 out of 500 | elapsed:    2.2s finished\n",
      "[Parallel(n_jobs=1)]: Using backend SequentialBackend with 1 concurrent workers.\n",
      "[Parallel(n_jobs=1)]: Done 500 out of 500 | elapsed:    0.1s finished\n",
      "[Parallel(n_jobs=1)]: Using backend SequentialBackend with 1 concurrent workers.\n",
      "[Parallel(n_jobs=1)]: Done 500 out of 500 | elapsed:    2.2s finished\n",
      "[Parallel(n_jobs=1)]: Using backend SequentialBackend with 1 concurrent workers.\n",
      "[Parallel(n_jobs=1)]: Done 500 out of 500 | elapsed:    0.1s finished\n",
      "[Parallel(n_jobs=1)]: Using backend SequentialBackend with 1 concurrent workers.\n",
      "[Parallel(n_jobs=1)]: Done 500 out of 500 | elapsed:    2.0s finished\n",
      "[Parallel(n_jobs=1)]: Using backend SequentialBackend with 1 concurrent workers.\n",
      "[Parallel(n_jobs=1)]: Done 500 out of 500 | elapsed:    0.1s finished\n",
      "[Parallel(n_jobs=1)]: Using backend SequentialBackend with 1 concurrent workers.\n",
      "[Parallel(n_jobs=1)]: Done 500 out of 500 | elapsed:    2.2s finished\n",
      "[Parallel(n_jobs=1)]: Using backend SequentialBackend with 1 concurrent workers.\n",
      "[Parallel(n_jobs=1)]: Done 500 out of 500 | elapsed:    0.1s finished\n",
      "[Parallel(n_jobs=1)]: Using backend SequentialBackend with 1 concurrent workers.\n",
      "[Parallel(n_jobs=1)]: Done 500 out of 500 | elapsed:    2.2s finished\n",
      "[Parallel(n_jobs=1)]: Using backend SequentialBackend with 1 concurrent workers.\n",
      "[Parallel(n_jobs=1)]: Done 500 out of 500 | elapsed:    0.1s finished\n",
      "[Parallel(n_jobs=1)]: Using backend SequentialBackend with 1 concurrent workers.\n",
      "[Parallel(n_jobs=1)]: Done 500 out of 500 | elapsed:    2.2s finished\n",
      "[Parallel(n_jobs=1)]: Using backend SequentialBackend with 1 concurrent workers.\n",
      "[Parallel(n_jobs=1)]: Done 500 out of 500 | elapsed:    0.1s finished\n",
      "[Parallel(n_jobs=1)]: Using backend SequentialBackend with 1 concurrent workers.\n",
      "[Parallel(n_jobs=1)]: Done 500 out of 500 | elapsed:    2.0s finished\n",
      "[Parallel(n_jobs=1)]: Using backend SequentialBackend with 1 concurrent workers.\n",
      "[Parallel(n_jobs=1)]: Done 500 out of 500 | elapsed:    0.1s finished\n",
      "[Parallel(n_jobs=1)]: Using backend SequentialBackend with 1 concurrent workers.\n",
      "[Parallel(n_jobs=1)]: Done 500 out of 500 | elapsed:    1.9s finished\n",
      "[Parallel(n_jobs=1)]: Using backend SequentialBackend with 1 concurrent workers.\n",
      "[Parallel(n_jobs=1)]: Done 500 out of 500 | elapsed:    0.1s finished\n"
     ]
    }
   ],
   "source": [
    "clf_RF = RandomForestClassifier(n_estimators=500, criterion='gini', max_depth=15,\n",
    "                                min_samples_split=2, min_samples_leaf=1, min_weight_fraction_leaf=0.0,\n",
    "                                max_features='auto', max_leaf_nodes=None, min_impurity_split=1e-07, \n",
    "                                bootstrap=True, oob_score=False, n_jobs=1, \n",
    "                                random_state=42, verbose=1, warm_start=False, class_weight=None)\n",
    "clf_RF.fit(X2, y2)\n",
    "cv_scoresRF = cross_val_score(clf_RF, X2, y2, cv=10)\n",
    "y_pred_RF = cross_val_predict(clf_RF, X2, y2, cv=10)"
   ]
  },
  {
   "cell_type": "code",
   "execution_count": 44,
   "metadata": {},
   "outputs": [],
   "source": [
    "from sklearn.ensemble import AdaBoostClassifier\n",
    "\n",
    "clf_AdaB = AdaBoostClassifier(n_estimators=100)\n",
    "clf_AdaB.fit(X2, y2)\n",
    "cv_scoresAdaB = cross_val_score(clf_AdaB, X2, y2, cv=10)\n",
    "y_pred_AdaB = cross_val_predict(clf_AdaB, X2, y2, cv=10)\n"
   ]
  },
  {
   "cell_type": "code",
   "execution_count": 45,
   "metadata": {},
   "outputs": [],
   "source": [
    "clf_GB = GradientBoostingClassifier(n_estimators=100, learning_rate=1.0, random_state=0)\n",
    "clf_GB.fit(X2, y2)\n",
    "\n",
    "cv_scoresGB = cross_val_score(clf_GB, X2, y2, cv=10)\n",
    "y_pred_GB = cross_val_predict(clf_GB, X2, y2, cv=10)\n",
    "\n"
   ]
  },
  {
   "cell_type": "code",
   "execution_count": 46,
   "metadata": {},
   "outputs": [],
   "source": [
    "clf_ET = ExtraTreesClassifier(n_estimators=250, random_state=0)\n",
    "clf_ET.fit(X2, y2)\n",
    "\n",
    "cv_scoresET = cross_val_score(clf_ET, X2, y2, cv=10)\n",
    "y_pred_ET = cross_val_predict(clf_ET, X2, y2, cv=10)"
   ]
  },
  {
   "cell_type": "code",
   "execution_count": 47,
   "metadata": {},
   "outputs": [
    {
     "name": "stdout",
     "output_type": "stream",
     "text": [
      "[LibSVM][LibSVM][LibSVM][LibSVM][LibSVM][LibSVM][LibSVM][LibSVM][LibSVM][LibSVM][LibSVM][LibSVM][LibSVM][LibSVM][LibSVM][LibSVM][LibSVM][LibSVM][LibSVM][LibSVM][LibSVM]"
     ]
    }
   ],
   "source": [
    "clf_SVM = SVC(C=10, class_weight='balanced', gamma='auto', kernel='rbf',\n",
    "              max_iter=-1, probability=True, random_state=0, verbose=True)\n",
    "\n",
    "clf_SVM.fit(X2, y2)\n",
    "\n",
    "cv_scoresSVM = cross_val_score(clf_SVM, X2, y2, cv=10)\n",
    "y_pred_SVM = cross_val_predict(clf_SVM, X2, y2, cv=10)\n",
    "\n"
   ]
  },
  {
   "cell_type": "code",
   "execution_count": 48,
   "metadata": {},
   "outputs": [],
   "source": [
    "clf_GNB = GaussianNB()\n",
    "\n",
    "clf_GNB.fit(X2,y2)\n",
    "\n",
    "cv_scoresGNB = cross_val_score(clf_GNB, X2, y2, cv=10)\n",
    "y_pred_GNB = cross_val_predict(clf_GNB, X2, y2, cv=10)\n"
   ]
  },
  {
   "cell_type": "code",
   "execution_count": 49,
   "metadata": {},
   "outputs": [],
   "source": [
    "from sklearn.tree import DecisionTreeRegressor \n",
    "from sklearn.ensemble import RandomForestRegressor\n",
    "from sklearn.ensemble import ExtraTreesRegressor\n",
    "from sklearn.neighbors import KNeighborsRegressor\n",
    "from sklearn.naive_bayes import GaussianNB\n",
    "from sklearn.linear_model import LogisticRegression\n",
    "from sklearn.svm import SVR \n",
    "from sklearn.metrics import confusion_matrix\n",
    "from sklearn.metrics import roc_auc_score"
   ]
  },
  {
   "cell_type": "code",
   "execution_count": 50,
   "metadata": {},
   "outputs": [],
   "source": [
    "clf_DTR = DecisionTreeRegressor()\n",
    "clf_DTR.fit(X2, y2)\n",
    "\n",
    "cv_scoresDTR = cross_val_score(clf_DTR, X2, y2, cv=10)\n",
    "y_pred_DTR = cross_val_predict(clf_DTR, X2, y2, cv=10)"
   ]
  },
  {
   "cell_type": "code",
   "execution_count": 51,
   "metadata": {},
   "outputs": [],
   "source": [
    "clf_RFR = RandomForestRegressor()\n",
    "clf_RFR.fit(X2, y2)\n",
    "\n",
    "cv_scoresRFR = cross_val_score(clf_RFR, X2, y2, cv=10)\n",
    "y_pred_RFR = cross_val_predict(clf_RFR, X2, y2, cv=10)"
   ]
  },
  {
   "cell_type": "code",
   "execution_count": 52,
   "metadata": {},
   "outputs": [],
   "source": [
    "clf_ETR = ExtraTreesRegressor()\n",
    "clf_ETR.fit(X2, y2)\n",
    "\n",
    "cv_scoresETR = cross_val_score(clf_ETR, X2, y2, cv=10)\n",
    "y_pred_ETR = cross_val_predict(clf_ETR, X2, y2, cv=10)"
   ]
  },
  {
   "cell_type": "code",
   "execution_count": 53,
   "metadata": {},
   "outputs": [],
   "source": [
    "clf_KNR = KNeighborsRegressor()\n",
    "clf_KNR.fit(X2, y2)\n",
    "\n",
    "cv_scoresKNR = cross_val_score(clf_KNR, X2, y2, cv=10)\n",
    "y_pred_KNR = cross_val_predict(clf_KNR, X2, y2, cv=10)"
   ]
  },
  {
   "cell_type": "code",
   "execution_count": 57,
   "metadata": {},
   "outputs": [
    {
     "name": "stdout",
     "output_type": "stream",
     "text": [
      "       Accuracy of Models       \n",
      "--------------------------------\n",
      "Decision Tree           91.93%\n",
      "Naive Bayes             94.02%\n",
      "Neural Network          93.99%\n",
      "Logistic Regression     66.28%\n",
      "Random Forest           92.75%\n",
      "AdaBoost                93.87%\n",
      "GradientBoost           92.20%\n",
      "Extra Tree              92.13%\n",
      "Support Vector Machine  66.94%\n",
      "Gaussian Naive Bayes    87.26%\n"
     ]
    }
   ],
   "source": [
    "print('       Accuracy of Models       ')\n",
    "print('--------------------------------')\n",
    "print('Decision Tree           '+\"{:.2f}\".format(accuracy_score(y2, y_pred_DT)*100)+'%')\n",
    "print('Naive Bayes             '+\"{:.2f}\".format(accuracy_score(y2, y_pred_NB)*100)+'%')\n",
    "print('Neural Network          '+\"{:.2f}\".format(accuracy_score(y2, y_pred_MLP)*100)+'%')\n",
    "print('Logistic Regression     '+\"{:.2f}\".format(accuracy_score(y2, y_pred_Log)*100)+'%')\n",
    "print('Random Forest           '+\"{:.2f}\".format(accuracy_score(y2, y_pred_RF)*100)+'%')\n",
    "print('AdaBoost                '+\"{:.2f}\".format(accuracy_score(y2, y_pred_AdaB)*100)+'%')\n",
    "print('GradientBoost           '+\"{:.2f}\".format(accuracy_score(y2, y_pred_GB)*100)+'%')\n",
    "print('Extra Tree              '+\"{:.2f}\".format(accuracy_score(y2, y_pred_ET)*100)+'%')\n",
    "print('Support Vector Machine  '+\"{:.2f}\".format(accuracy_score(y2, y_pred_SVM)*100)+'%')\n",
    "print('Gaussian Naive Bayes    '+\"{:.2f}\".format(accuracy_score(y2, y_pred_GNB)*100)+'%')\n"
   ]
  },
  {
   "cell_type": "code",
   "execution_count": 56,
   "metadata": {},
   "outputs": [
    {
     "name": "stdout",
     "output_type": "stream",
     "text": [
      "Decision Tree  \n",
      "[[5327  147]\n",
      " [ 323   25]]\n",
      "\n",
      "\n",
      "Naive Bayes  \n",
      "[[5474    0]\n",
      " [ 348    0]]\n",
      "\n",
      "\n",
      "Neural Network  \n",
      "[[5470    4]\n",
      " [ 346    2]]\n",
      "\n",
      "\n",
      "Logistic Regression  \n",
      "[[3627 1847]\n",
      " [ 116  232]]\n",
      "\n",
      "\n",
      "Random Forest  \n",
      "[[5385   89]\n",
      " [ 333   15]]\n",
      "\n",
      "\n",
      "AdaBoost  \n",
      "[[5463   11]\n",
      " [ 346    2]]\n",
      "\n",
      "\n",
      "GradientBoost  \n",
      "[[5352  122]\n",
      " [ 332   16]]\n",
      "\n",
      "\n",
      "Extra Tree  \n",
      "[[5344  130]\n",
      " [ 328   20]]\n",
      "\n",
      "\n",
      "SVM  \n",
      "[[3663 1811]\n",
      " [ 114  234]]\n",
      "\n",
      "\n",
      "Gaussian Naive Bayes  \n",
      "[[4992  482]\n",
      " [ 260   88]]\n"
     ]
    }
   ],
   "source": [
    "print('Decision Tree  ')\n",
    "cm_DT = confusion_matrix(y2,y_pred_DT)\n",
    "print(cm_DT)\n",
    "print('\\n')\n",
    "\n",
    "print('Naive Bayes  ')\n",
    "cm_NB = confusion_matrix(y2,y_pred_NB)\n",
    "print(cm_NB)\n",
    "print('\\n')\n",
    "\n",
    "print('Neural Network  ')\n",
    "cm_MLP = confusion_matrix(y2,y_pred_MLP)\n",
    "print(cm_MLP)\n",
    "print('\\n')\n",
    "\n",
    "print('Logistic Regression  ')\n",
    "cm_Log = confusion_matrix(y2,y_pred_Log)\n",
    "print(cm_Log)\n",
    "print('\\n')\n",
    "\n",
    "print('Random Forest  ')\n",
    "cm_RF = confusion_matrix(y2,y_pred_RF)\n",
    "print(cm_RF)\n",
    "print('\\n')\n",
    "\n",
    "print('AdaBoost  ')\n",
    "cm_AdaB = confusion_matrix(y2,y_pred_AdaB)\n",
    "print(cm_AdaB)\n",
    "print('\\n')\n",
    "\n",
    "print('GradientBoost  ')\n",
    "cm_GB = confusion_matrix(y2,y_pred_GB)\n",
    "print(cm_GB)\n",
    "print('\\n')\n",
    "\n",
    "print('Extra Tree  ')\n",
    "cm_ET = confusion_matrix(y2,y_pred_ET)\n",
    "print(cm_ET)\n",
    "print('\\n')\n",
    "\n",
    "print('SVM  ')\n",
    "cm_SVM = confusion_matrix(y2,y_pred_SVM)\n",
    "print(cm_SVM)\n",
    "print('\\n')\n",
    "\n",
    "print('Gaussian Naive Bayes  ')\n",
    "cm_GNB = confusion_matrix(y2,y_pred_GNB)\n",
    "print(cm_GNB)\n"
   ]
  },
  {
   "cell_type": "markdown",
   "metadata": {},
   "source": [
    "### Use on test set"
   ]
  },
  {
   "cell_type": "code",
   "execution_count": 58,
   "metadata": {},
   "outputs": [],
   "source": [
    "df_test = read_csv('caravanTest.csv')\n",
    "X_test = df_test.iloc[:,0:len(df_test.columns)-1]\n",
    "y_test = df_test['CARAVAN POLICY']"
   ]
  },
  {
   "cell_type": "code",
   "execution_count": 59,
   "metadata": {},
   "outputs": [],
   "source": [
    "#Altering dataset of X_test to expand Customer Main Type\n",
    "X_encoded = X_test\n",
    "\n",
    "dummy = pd.get_dummies(X_encoded['Customer main type'])"
   ]
  },
  {
   "cell_type": "code",
   "execution_count": 60,
   "metadata": {},
   "outputs": [],
   "source": [
    "dummy.columns = [ 'Successful hedonists', 'Driven Growers', 'Average Family', 'Career Loners', ' Living well', ' Cruising Seniors','Retired and Religeous',' Family with grown ups','Conservative families', 'Farmers']"
   ]
  },
  {
   "cell_type": "code",
   "execution_count": 61,
   "metadata": {},
   "outputs": [
    {
     "data": {
      "text/html": [
       "<div>\n",
       "<style scoped>\n",
       "    .dataframe tbody tr th:only-of-type {\n",
       "        vertical-align: middle;\n",
       "    }\n",
       "\n",
       "    .dataframe tbody tr th {\n",
       "        vertical-align: top;\n",
       "    }\n",
       "\n",
       "    .dataframe thead th {\n",
       "        text-align: right;\n",
       "    }\n",
       "</style>\n",
       "<table border=\"1\" class=\"dataframe\">\n",
       "  <thead>\n",
       "    <tr style=\"text-align: right;\">\n",
       "      <th></th>\n",
       "      <th>Customer Subtype</th>\n",
       "      <th>Number of houses</th>\n",
       "      <th>Avg size household</th>\n",
       "      <th>Avg Age</th>\n",
       "      <th>Roman catholic</th>\n",
       "      <th>Protestant</th>\n",
       "      <th>Other religion</th>\n",
       "      <th>No religion</th>\n",
       "      <th>Married</th>\n",
       "      <th>Living together</th>\n",
       "      <th>...</th>\n",
       "      <th>Number of life insurances</th>\n",
       "      <th>Number of private accident insurance policies</th>\n",
       "      <th>Number of family accidents insurance policies</th>\n",
       "      <th>Number of disability insurance policies</th>\n",
       "      <th>Number of re policies</th>\n",
       "      <th>Number of surfboard policies</th>\n",
       "      <th>Number of boat policies</th>\n",
       "      <th>Number of bicycle policies</th>\n",
       "      <th>Number of property insurance policies</th>\n",
       "      <th>Number of social security insurance policies</th>\n",
       "    </tr>\n",
       "  </thead>\n",
       "  <tbody>\n",
       "    <tr>\n",
       "      <th>0</th>\n",
       "      <td>33</td>\n",
       "      <td>1</td>\n",
       "      <td>4</td>\n",
       "      <td>2</td>\n",
       "      <td>0</td>\n",
       "      <td>6</td>\n",
       "      <td>0</td>\n",
       "      <td>3</td>\n",
       "      <td>5</td>\n",
       "      <td>0</td>\n",
       "      <td>...</td>\n",
       "      <td>0</td>\n",
       "      <td>0</td>\n",
       "      <td>0</td>\n",
       "      <td>0</td>\n",
       "      <td>1</td>\n",
       "      <td>0</td>\n",
       "      <td>0</td>\n",
       "      <td>0</td>\n",
       "      <td>0</td>\n",
       "      <td>0</td>\n",
       "    </tr>\n",
       "    <tr>\n",
       "      <th>1</th>\n",
       "      <td>6</td>\n",
       "      <td>1</td>\n",
       "      <td>3</td>\n",
       "      <td>2</td>\n",
       "      <td>0</td>\n",
       "      <td>5</td>\n",
       "      <td>0</td>\n",
       "      <td>4</td>\n",
       "      <td>5</td>\n",
       "      <td>2</td>\n",
       "      <td>...</td>\n",
       "      <td>2</td>\n",
       "      <td>0</td>\n",
       "      <td>0</td>\n",
       "      <td>0</td>\n",
       "      <td>1</td>\n",
       "      <td>0</td>\n",
       "      <td>0</td>\n",
       "      <td>0</td>\n",
       "      <td>0</td>\n",
       "      <td>0</td>\n",
       "    </tr>\n",
       "    <tr>\n",
       "      <th>2</th>\n",
       "      <td>39</td>\n",
       "      <td>1</td>\n",
       "      <td>3</td>\n",
       "      <td>3</td>\n",
       "      <td>1</td>\n",
       "      <td>4</td>\n",
       "      <td>2</td>\n",
       "      <td>3</td>\n",
       "      <td>5</td>\n",
       "      <td>2</td>\n",
       "      <td>...</td>\n",
       "      <td>1</td>\n",
       "      <td>0</td>\n",
       "      <td>0</td>\n",
       "      <td>0</td>\n",
       "      <td>1</td>\n",
       "      <td>0</td>\n",
       "      <td>0</td>\n",
       "      <td>0</td>\n",
       "      <td>0</td>\n",
       "      <td>0</td>\n",
       "    </tr>\n",
       "    <tr>\n",
       "      <th>3</th>\n",
       "      <td>9</td>\n",
       "      <td>1</td>\n",
       "      <td>2</td>\n",
       "      <td>3</td>\n",
       "      <td>2</td>\n",
       "      <td>3</td>\n",
       "      <td>2</td>\n",
       "      <td>4</td>\n",
       "      <td>5</td>\n",
       "      <td>4</td>\n",
       "      <td>...</td>\n",
       "      <td>0</td>\n",
       "      <td>0</td>\n",
       "      <td>0</td>\n",
       "      <td>0</td>\n",
       "      <td>1</td>\n",
       "      <td>0</td>\n",
       "      <td>0</td>\n",
       "      <td>0</td>\n",
       "      <td>0</td>\n",
       "      <td>0</td>\n",
       "    </tr>\n",
       "    <tr>\n",
       "      <th>4</th>\n",
       "      <td>31</td>\n",
       "      <td>1</td>\n",
       "      <td>2</td>\n",
       "      <td>4</td>\n",
       "      <td>0</td>\n",
       "      <td>2</td>\n",
       "      <td>0</td>\n",
       "      <td>7</td>\n",
       "      <td>9</td>\n",
       "      <td>0</td>\n",
       "      <td>...</td>\n",
       "      <td>0</td>\n",
       "      <td>0</td>\n",
       "      <td>0</td>\n",
       "      <td>0</td>\n",
       "      <td>1</td>\n",
       "      <td>0</td>\n",
       "      <td>0</td>\n",
       "      <td>0</td>\n",
       "      <td>0</td>\n",
       "      <td>0</td>\n",
       "    </tr>\n",
       "  </tbody>\n",
       "</table>\n",
       "<p>5 rows × 84 columns</p>\n",
       "</div>"
      ],
      "text/plain": [
       "   Customer Subtype  Number of houses  Avg size household  Avg Age  \\\n",
       "0                33                 1                   4        2   \n",
       "1                 6                 1                   3        2   \n",
       "2                39                 1                   3        3   \n",
       "3                 9                 1                   2        3   \n",
       "4                31                 1                   2        4   \n",
       "\n",
       "   Roman catholic  Protestant  Other religion  No religion  Married  \\\n",
       "0               0           6               0            3        5   \n",
       "1               0           5               0            4        5   \n",
       "2               1           4               2            3        5   \n",
       "3               2           3               2            4        5   \n",
       "4               0           2               0            7        9   \n",
       "\n",
       "   Living together  ...  Number of life insurances  \\\n",
       "0                0  ...                          0   \n",
       "1                2  ...                          2   \n",
       "2                2  ...                          1   \n",
       "3                4  ...                          0   \n",
       "4                0  ...                          0   \n",
       "\n",
       "   Number of private accident insurance policies  \\\n",
       "0                                              0   \n",
       "1                                              0   \n",
       "2                                              0   \n",
       "3                                              0   \n",
       "4                                              0   \n",
       "\n",
       "   Number of family accidents insurance policies  \\\n",
       "0                                              0   \n",
       "1                                              0   \n",
       "2                                              0   \n",
       "3                                              0   \n",
       "4                                              0   \n",
       "\n",
       "   Number of disability insurance policies  Number of re policies  \\\n",
       "0                                        0                      1   \n",
       "1                                        0                      1   \n",
       "2                                        0                      1   \n",
       "3                                        0                      1   \n",
       "4                                        0                      1   \n",
       "\n",
       "   Number of surfboard policies  Number of boat policies  \\\n",
       "0                             0                        0   \n",
       "1                             0                        0   \n",
       "2                             0                        0   \n",
       "3                             0                        0   \n",
       "4                             0                        0   \n",
       "\n",
       "   Number of bicycle policies  Number of property insurance policies  \\\n",
       "0                           0                                      0   \n",
       "1                           0                                      0   \n",
       "2                           0                                      0   \n",
       "3                           0                                      0   \n",
       "4                           0                                      0   \n",
       "\n",
       "   Number of social security insurance policies  \n",
       "0                                             0  \n",
       "1                                             0  \n",
       "2                                             0  \n",
       "3                                             0  \n",
       "4                                             0  \n",
       "\n",
       "[5 rows x 84 columns]"
      ]
     },
     "execution_count": 61,
     "metadata": {},
     "output_type": "execute_result"
    }
   ],
   "source": [
    "X_encoded =X_encoded.drop(['Customer main type'], axis=1);\n",
    "X_encoded.head()"
   ]
  },
  {
   "cell_type": "code",
   "execution_count": 62,
   "metadata": {},
   "outputs": [
    {
     "data": {
      "text/html": [
       "<div>\n",
       "<style scoped>\n",
       "    .dataframe tbody tr th:only-of-type {\n",
       "        vertical-align: middle;\n",
       "    }\n",
       "\n",
       "    .dataframe tbody tr th {\n",
       "        vertical-align: top;\n",
       "    }\n",
       "\n",
       "    .dataframe thead th {\n",
       "        text-align: right;\n",
       "    }\n",
       "</style>\n",
       "<table border=\"1\" class=\"dataframe\">\n",
       "  <thead>\n",
       "    <tr style=\"text-align: right;\">\n",
       "      <th></th>\n",
       "      <th>Customer Subtype</th>\n",
       "      <th>Number of houses</th>\n",
       "      <th>Avg size household</th>\n",
       "      <th>Avg Age</th>\n",
       "      <th>Roman catholic</th>\n",
       "      <th>Protestant</th>\n",
       "      <th>Other religion</th>\n",
       "      <th>No religion</th>\n",
       "      <th>Married</th>\n",
       "      <th>Living together</th>\n",
       "      <th>...</th>\n",
       "      <th>Successful hedonists</th>\n",
       "      <th>Driven Growers</th>\n",
       "      <th>Average Family</th>\n",
       "      <th>Career Loners</th>\n",
       "      <th>Living well</th>\n",
       "      <th>Cruising Seniors</th>\n",
       "      <th>Retired and Religeous</th>\n",
       "      <th>Family with grown ups</th>\n",
       "      <th>Conservative families</th>\n",
       "      <th>Farmers</th>\n",
       "    </tr>\n",
       "  </thead>\n",
       "  <tbody>\n",
       "    <tr>\n",
       "      <th>0</th>\n",
       "      <td>33</td>\n",
       "      <td>1</td>\n",
       "      <td>4</td>\n",
       "      <td>2</td>\n",
       "      <td>0</td>\n",
       "      <td>6</td>\n",
       "      <td>0</td>\n",
       "      <td>3</td>\n",
       "      <td>5</td>\n",
       "      <td>0</td>\n",
       "      <td>...</td>\n",
       "      <td>0</td>\n",
       "      <td>0</td>\n",
       "      <td>0</td>\n",
       "      <td>0</td>\n",
       "      <td>0</td>\n",
       "      <td>0</td>\n",
       "      <td>0</td>\n",
       "      <td>1</td>\n",
       "      <td>0</td>\n",
       "      <td>0</td>\n",
       "    </tr>\n",
       "    <tr>\n",
       "      <th>1</th>\n",
       "      <td>6</td>\n",
       "      <td>1</td>\n",
       "      <td>3</td>\n",
       "      <td>2</td>\n",
       "      <td>0</td>\n",
       "      <td>5</td>\n",
       "      <td>0</td>\n",
       "      <td>4</td>\n",
       "      <td>5</td>\n",
       "      <td>2</td>\n",
       "      <td>...</td>\n",
       "      <td>0</td>\n",
       "      <td>1</td>\n",
       "      <td>0</td>\n",
       "      <td>0</td>\n",
       "      <td>0</td>\n",
       "      <td>0</td>\n",
       "      <td>0</td>\n",
       "      <td>0</td>\n",
       "      <td>0</td>\n",
       "      <td>0</td>\n",
       "    </tr>\n",
       "    <tr>\n",
       "      <th>2</th>\n",
       "      <td>39</td>\n",
       "      <td>1</td>\n",
       "      <td>3</td>\n",
       "      <td>3</td>\n",
       "      <td>1</td>\n",
       "      <td>4</td>\n",
       "      <td>2</td>\n",
       "      <td>3</td>\n",
       "      <td>5</td>\n",
       "      <td>2</td>\n",
       "      <td>...</td>\n",
       "      <td>0</td>\n",
       "      <td>0</td>\n",
       "      <td>0</td>\n",
       "      <td>0</td>\n",
       "      <td>0</td>\n",
       "      <td>0</td>\n",
       "      <td>0</td>\n",
       "      <td>0</td>\n",
       "      <td>1</td>\n",
       "      <td>0</td>\n",
       "    </tr>\n",
       "    <tr>\n",
       "      <th>3</th>\n",
       "      <td>9</td>\n",
       "      <td>1</td>\n",
       "      <td>2</td>\n",
       "      <td>3</td>\n",
       "      <td>2</td>\n",
       "      <td>3</td>\n",
       "      <td>2</td>\n",
       "      <td>4</td>\n",
       "      <td>5</td>\n",
       "      <td>4</td>\n",
       "      <td>...</td>\n",
       "      <td>0</td>\n",
       "      <td>0</td>\n",
       "      <td>1</td>\n",
       "      <td>0</td>\n",
       "      <td>0</td>\n",
       "      <td>0</td>\n",
       "      <td>0</td>\n",
       "      <td>0</td>\n",
       "      <td>0</td>\n",
       "      <td>0</td>\n",
       "    </tr>\n",
       "    <tr>\n",
       "      <th>4</th>\n",
       "      <td>31</td>\n",
       "      <td>1</td>\n",
       "      <td>2</td>\n",
       "      <td>4</td>\n",
       "      <td>0</td>\n",
       "      <td>2</td>\n",
       "      <td>0</td>\n",
       "      <td>7</td>\n",
       "      <td>9</td>\n",
       "      <td>0</td>\n",
       "      <td>...</td>\n",
       "      <td>0</td>\n",
       "      <td>0</td>\n",
       "      <td>0</td>\n",
       "      <td>0</td>\n",
       "      <td>0</td>\n",
       "      <td>0</td>\n",
       "      <td>1</td>\n",
       "      <td>0</td>\n",
       "      <td>0</td>\n",
       "      <td>0</td>\n",
       "    </tr>\n",
       "  </tbody>\n",
       "</table>\n",
       "<p>5 rows × 94 columns</p>\n",
       "</div>"
      ],
      "text/plain": [
       "   Customer Subtype  Number of houses  Avg size household  Avg Age  \\\n",
       "0                33                 1                   4        2   \n",
       "1                 6                 1                   3        2   \n",
       "2                39                 1                   3        3   \n",
       "3                 9                 1                   2        3   \n",
       "4                31                 1                   2        4   \n",
       "\n",
       "   Roman catholic  Protestant  Other religion  No religion  Married  \\\n",
       "0               0           6               0            3        5   \n",
       "1               0           5               0            4        5   \n",
       "2               1           4               2            3        5   \n",
       "3               2           3               2            4        5   \n",
       "4               0           2               0            7        9   \n",
       "\n",
       "   Living together  ...  Successful hedonists  Driven Growers  Average Family  \\\n",
       "0                0  ...                     0               0               0   \n",
       "1                2  ...                     0               1               0   \n",
       "2                2  ...                     0               0               0   \n",
       "3                4  ...                     0               0               1   \n",
       "4                0  ...                     0               0               0   \n",
       "\n",
       "   Career Loners   Living well   Cruising Seniors  Retired and Religeous  \\\n",
       "0              0             0                  0                      0   \n",
       "1              0             0                  0                      0   \n",
       "2              0             0                  0                      0   \n",
       "3              0             0                  0                      0   \n",
       "4              0             0                  0                      1   \n",
       "\n",
       "    Family with grown ups  Conservative families  Farmers  \n",
       "0                       1                      0        0  \n",
       "1                       0                      0        0  \n",
       "2                       0                      1        0  \n",
       "3                       0                      0        0  \n",
       "4                       0                      0        0  \n",
       "\n",
       "[5 rows x 94 columns]"
      ]
     },
     "execution_count": 62,
     "metadata": {},
     "output_type": "execute_result"
    }
   ],
   "source": [
    "X_encoded = X_encoded.merge(dummy,left_index=True,right_index=True);\n",
    "X_encoded.head(5)"
   ]
  },
  {
   "cell_type": "code",
   "execution_count": 63,
   "metadata": {},
   "outputs": [
    {
     "name": "stdout",
     "output_type": "stream",
     "text": [
      "       Customer Subtype  Number of houses  Avg size household      Avg Age  \\\n",
      "count       4000.000000        4000.00000         4000.000000  4000.000000   \n",
      "mean          24.253000           1.10600            2.675750     3.004000   \n",
      "std           13.022822           0.42108            0.767306     0.790025   \n",
      "min            1.000000           1.00000            1.000000     1.000000   \n",
      "25%           10.000000           1.00000            2.000000     3.000000   \n",
      "50%           30.000000           1.00000            3.000000     3.000000   \n",
      "75%           35.000000           1.00000            3.000000     3.000000   \n",
      "max           41.000000          10.00000            6.000000     6.000000   \n",
      "\n",
      "       Roman catholic   Protestant  Other religion  No religion      Married  \\\n",
      "count     4000.000000  4000.000000     4000.000000  4000.000000  4000.000000   \n",
      "mean         0.706750     4.653250        1.021250     3.269500     6.197000   \n",
      "std          1.032241     1.729093        1.001274     1.618958     1.876585   \n",
      "min          0.000000     0.000000        0.000000     0.000000     0.000000   \n",
      "25%          0.000000     4.000000        0.000000     2.000000     5.000000   \n",
      "50%          0.000000     5.000000        1.000000     3.000000     6.000000   \n",
      "75%          1.000000     6.000000        2.000000     4.000000     7.000000   \n",
      "max          9.000000     9.000000        5.000000     9.000000     9.000000   \n",
      "\n",
      "       Living together  ...  Successful hedonists  Driven Growers  \\\n",
      "count      4000.000000  ...           4000.000000     4000.000000   \n",
      "mean          0.858000  ...              0.101750        0.081250   \n",
      "std           0.956067  ...              0.302357        0.273253   \n",
      "min           0.000000  ...              0.000000        0.000000   \n",
      "25%           0.000000  ...              0.000000        0.000000   \n",
      "50%           1.000000  ...              0.000000        0.000000   \n",
      "75%           1.000000  ...              0.000000        0.000000   \n",
      "max           7.000000  ...              1.000000        1.000000   \n",
      "\n",
      "       Average Family  Career Loners   Living well   Cruising Seniors  \\\n",
      "count      4000.00000    4000.000000   4000.000000        4000.000000   \n",
      "mean          0.15675       0.006750      0.092750           0.030250   \n",
      "std           0.36361       0.081891      0.290118           0.171296   \n",
      "min           0.00000       0.000000      0.000000           0.000000   \n",
      "25%           0.00000       0.000000      0.000000           0.000000   \n",
      "50%           0.00000       0.000000      0.000000           0.000000   \n",
      "75%           0.00000       0.000000      0.000000           0.000000   \n",
      "max           1.00000       1.000000      1.000000           1.000000   \n",
      "\n",
      "       Retired and Religeous   Family with grown ups  Conservative families  \\\n",
      "count            4000.000000             4000.000000            4000.000000   \n",
      "mean                0.082750                0.282750               0.111000   \n",
      "std                 0.275538                0.450392               0.314171   \n",
      "min                 0.000000                0.000000               0.000000   \n",
      "25%                 0.000000                0.000000               0.000000   \n",
      "50%                 0.000000                0.000000               0.000000   \n",
      "75%                 0.000000                1.000000               0.000000   \n",
      "max                 1.000000                1.000000               1.000000   \n",
      "\n",
      "           Farmers  \n",
      "count  4000.000000  \n",
      "mean      0.054000  \n",
      "std       0.226046  \n",
      "min       0.000000  \n",
      "25%       0.000000  \n",
      "50%       0.000000  \n",
      "75%       0.000000  \n",
      "max       1.000000  \n",
      "\n",
      "[8 rows x 94 columns]\n"
     ]
    }
   ],
   "source": [
    "X_test = X_encoded\n",
    "print(X_test.describe())"
   ]
  },
  {
   "cell_type": "code",
   "execution_count": 64,
   "metadata": {},
   "outputs": [
    {
     "name": "stdout",
     "output_type": "stream",
     "text": [
      "Variables selected :   ['Contribution car policies', 'Average income', 'Contribution fire policies', '1 car', 'High level education', 'Roman catholic', 'Contribution private third party insurance', 'Income 45-75.000', 'Social class B1', 'Married', 'Entrepreneur', 'Social class D', '2 cars', 'Social class A', 'Skilled labourers', 'High status', 'Middle Management', 'Living together', 'Lower level education', 'Income 30-45.000']\n",
      "\n",
      "\n",
      "X and y Input Data:    (4000, 20) (4000, 1)\n"
     ]
    }
   ],
   "source": [
    "var=20\n",
    "#Final Variables\n",
    "print('Variables selected :  ', list(X_test.columns.values[[45,40,57,30,14,4,42,37,24,8,18,27,31,23,21,17,20,9,16,36]]))\n",
    "                                     \n",
    "                      \n",
    "selected2 = X_test.columns.values[[45,40,57,30,14,4,42,37,24,8,18,27,31,23,21,17,20,9,16,36]]\n",
    "\n",
    "X_test = (X_test[X_test.columns[[45,40,57,30,14,4,42,37,24,8,18,27,31,23,21,17,20,9,16,36]]].values)\n",
    "\n",
    "\n",
    "\n",
    "# Normalization - Using MinMax Scaler\n",
    "min_max_scaler = preprocessing.MinMaxScaler()\n",
    "X_test = min_max_scaler.fit_transform(X_test)\n",
    "\n",
    "y_test = np.vstack(df_test['CARAVAN POLICY'].values)\n",
    "\n",
    "print('\\n')\n",
    "print('X and y Input Data:   ', X_test.shape, y_test.shape)"
   ]
  },
  {
   "cell_type": "markdown",
   "metadata": {},
   "source": [
    "### Running models on test data"
   ]
  },
  {
   "cell_type": "code",
   "execution_count": 65,
   "metadata": {},
   "outputs": [
    {
     "name": "stdout",
     "output_type": "stream",
     "text": [
      "[LibSVM]"
     ]
    }
   ],
   "source": [
    "clf_DT = DecisionTreeClassifier(criterion='gini', splitter='best', max_depth=10, \n",
    "                                min_samples_split=2, min_samples_leaf=1, \n",
    "                                min_weight_fraction_leaf=0.0, max_features=None, \n",
    "                                max_leaf_nodes=None, min_impurity_split=1e-07, random_state = 0)\n",
    "clf_DT.fit(X2,y2)\n",
    "y_pred_DT = clf_DT.predict(X_test)\n",
    "\n",
    "\n",
    "clf_NB = BernoulliNB()\n",
    "clf_NB.fit(X2, y2)\n",
    "\n",
    "y_pred_NB = clf_NB.predict(X_test)\n",
    "\n",
    "\n",
    "clf_SVM = SVC(C=10, class_weight='balanced', gamma='auto', kernel='rbf',\n",
    "              max_iter=-1, probability=True, random_state=0, verbose=True)\n",
    "\n",
    "clf_SVM.fit(X2, y2)\n",
    "\n",
    "y_pred_SVM = clf_NB.predict(X_test)\n",
    "\n",
    "\n",
    "clf_AdaB = AdaBoostClassifier(n_estimators=100)\n",
    "clf_AdaB.fit(X2, y2)\n",
    "y_pred_AdaB = clf_AdaB.predict(X_test)\n",
    "\n",
    "MLPClassifier(activation='relu', alpha=1e-05,\n",
    "       batch_size='auto', beta_1=0.9, beta_2=0.999, early_stopping=False,\n",
    "       epsilon=1e-08, hidden_layer_sizes=(64), learning_rate='constant',\n",
    "       learning_rate_init=0.001, max_iter=2000, momentum=0.9,\n",
    "       nesterovs_momentum=True, power_t=0.5, random_state=0, shuffle=True,\n",
    "       tol=0.001, validation_fraction=0.1, verbose=True,\n",
    "       warm_start=False)\n",
    "clf_MLP = MLPClassifier(alpha=1e-05, hidden_layer_sizes=(64))\n",
    "clf_MLP.fit(X2, y2)\n",
    "\n",
    "y_pred_MLP = clf_MLP.predict(X_test)\n"
   ]
  },
  {
   "cell_type": "code",
   "execution_count": 66,
   "metadata": {},
   "outputs": [
    {
     "name": "stderr",
     "output_type": "stream",
     "text": [
      "[Parallel(n_jobs=1)]: Using backend SequentialBackend with 1 concurrent workers.\n",
      "[Parallel(n_jobs=1)]: Done 500 out of 500 | elapsed:    2.6s finished\n",
      "[Parallel(n_jobs=1)]: Using backend SequentialBackend with 1 concurrent workers.\n",
      "[Parallel(n_jobs=1)]: Done 500 out of 500 | elapsed:    0.3s finished\n"
     ]
    }
   ],
   "source": [
    "clf_GB = GradientBoostingClassifier(n_estimators=100, learning_rate=1.0, random_state=0)\n",
    "clf_GB.fit(X2, y2)\n",
    "\n",
    "y_pred_GB = clf_GB.predict(X_test)\n",
    "\n",
    "\n",
    "\n",
    "clf_RF = RandomForestClassifier(n_estimators=500, criterion='gini', max_depth=15,\n",
    "                                min_samples_split=2, min_samples_leaf=1, min_weight_fraction_leaf=0.0,\n",
    "                                max_features='auto', max_leaf_nodes=None, min_impurity_split=1e-07, \n",
    "                                bootstrap=True, oob_score=False, n_jobs=1, \n",
    "                                random_state=42, verbose=1, warm_start=False, class_weight=None)\n",
    "clf_RF.fit(X2, y2)\n",
    "y_pred_RF = clf_RF.predict(X_test)\n",
    "\n",
    "\n",
    "clf_ET = ExtraTreesClassifier(n_estimators=250, random_state=0)\n",
    "clf_ET.fit(X2, y2)\n",
    "\n",
    "y_pred_ET = clf_ET.predict(X_test)"
   ]
  },
  {
   "cell_type": "code",
   "execution_count": 67,
   "metadata": {},
   "outputs": [
    {
     "name": "stdout",
     "output_type": "stream",
     "text": [
      "[LibLinear]"
     ]
    }
   ],
   "source": [
    "## Also using Regressors to predict the most probable customers\n",
    "\n",
    "clf_DTR = DecisionTreeRegressor()\n",
    "clf_DTR.fit(X2, y2)\n",
    "\n",
    "y_pred_DTR = clf_DTR.predict(X_test)\n",
    "\n",
    "clf_RFR = RandomForestRegressor()\n",
    "clf_RFR.fit(X2, y2)\n",
    "\n",
    "y_pred_RFR = clf_RFR.predict(X_test)\n",
    "\n",
    "\n",
    "clf_ETR = ExtraTreesRegressor()\n",
    "clf_ETR.fit(X2, y2)\n",
    "\n",
    "y_pred_ETR = clf_ETR.predict(X_test)\n",
    "\n",
    "clf_KNR = KNeighborsRegressor()\n",
    "clf_KNR.fit(X2, y2)\n",
    "\n",
    "y_pred_KNR = clf_KNR.predict(X_test)\n",
    "\n",
    "clf_SCR =SVR()\n",
    "clf_SCR.fit(X2,y2)\n",
    "y_pred_SCR = clf_SCR.predict(X_test)\n",
    "\n",
    "clf_GNB.fit(X2,y2)\n",
    "y_pred_GNB = clf_GNB.predict(X_test)\n",
    "\n",
    "clf_Log.fit(X2,y2)\n",
    "y_pred_Log = clf_Log.predict(X_test)"
   ]
  },
  {
   "cell_type": "code",
   "execution_count": 68,
   "metadata": {},
   "outputs": [
    {
     "name": "stdout",
     "output_type": "stream",
     "text": [
      "       AUC Scores      \n",
      "--------------------------------\n",
      "Decision Tree           51.94%\n",
      "Naive Bayes             49.99%\n",
      "Neural Network          50.00%\n",
      "Logistic Regression     65.97%\n",
      "Random Forest           50.55%\n",
      "AdaBoost                49.99%\n",
      "Extra Tree              52.47%\n",
      "Support Vector Machine  49.99%\n",
      "Logistic Regression     65.97%\n",
      "Gaussian Naive Bayes    58.25%\n",
      "Decision Tree Regressor 53.28%\n",
      "Extra Tree Regressor    63.56%\n",
      "Random Forest Regressor 56.43%\n",
      "KNeighbour Regressor    62.26%\n"
     ]
    }
   ],
   "source": [
    "print('       AUC Scores      ')\n",
    "print('--------------------------------')\n",
    "print('Decision Tree           '+\"{:.2f}\".format(roc_auc_score(y_test, y_pred_DT)*100)+'%')\n",
    "print('Naive Bayes             '+\"{:.2f}\".format(roc_auc_score(y_test, y_pred_NB)*100)+'%')\n",
    "print('Neural Network          '+\"{:.2f}\".format(roc_auc_score(y_test, y_pred_MLP)*100)+'%')\n",
    "print('Logistic Regression     '+\"{:.2f}\".format(roc_auc_score(y_test, y_pred_Log)*100)+'%')\n",
    "print('Random Forest           '+\"{:.2f}\".format(roc_auc_score(y_test, y_pred_RF)*100)+'%')\n",
    "print('AdaBoost                '+\"{:.2f}\".format(roc_auc_score(y_test, y_pred_AdaB)*100)+'%')\n",
    "print('Extra Tree              '+\"{:.2f}\".format(roc_auc_score(y_test, y_pred_ET)*100)+'%')\n",
    "print('Support Vector Machine  '+\"{:.2f}\".format(roc_auc_score(y_test, y_pred_SVM)*100)+'%')\n",
    "print('Gaussian Naive Bayes    '+\"{:.2f}\".format(roc_auc_score(y_test, y_pred_GNB)*100)+'%')\n",
    "print('Decision Tree Regressor '+\"{:.2f}\".format(roc_auc_score(y_test, y_pred_DTR)*100)+'%')\n",
    "print('Extra Tree Regressor    '+\"{:.2f}\".format(roc_auc_score(y_test, y_pred_ETR)*100)+'%')\n",
    "print('Random Forest Regressor '+\"{:.2f}\".format(roc_auc_score(y_test, y_pred_RFR)*100)+'%')\n",
    "print('KNeighbour Regressor    '+\"{:.2f}\".format(roc_auc_score(y_test, y_pred_KNR)*100)+'%')\n",
    "\n",
    "\n",
    "\n"
   ]
  },
  {
   "cell_type": "markdown",
   "metadata": {},
   "source": [
    "From the above, we have that Logistic Regression (with feature selection using Correlation Analysis and Random Forest) had the best AUC score when trying to make class predictions. This AUC of these classifiers has not performed very well with Logestic Regresion achieving the highest at 65.97%. A noteable result is that Naive Bayes did not perform well"
   ]
  },
  {
   "cell_type": "code",
   "execution_count": null,
   "metadata": {},
   "outputs": [],
   "source": []
  }
 ],
 "metadata": {
  "kernelspec": {
   "display_name": "Python 3",
   "language": "python",
   "name": "python3"
  },
  "language_info": {
   "codemirror_mode": {
    "name": "ipython",
    "version": 3
   },
   "file_extension": ".py",
   "mimetype": "text/x-python",
   "name": "python",
   "nbconvert_exporter": "python",
   "pygments_lexer": "ipython3",
   "version": "3.7.6"
  }
 },
 "nbformat": 4,
 "nbformat_minor": 2
}
